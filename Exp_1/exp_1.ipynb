{
 "cells": [
  {
   "cell_type": "markdown",
   "metadata": {},
   "source": [
    "# Experiment #1"
   ]
  },
  {
   "cell_type": "markdown",
   "metadata": {},
   "source": [
    "## Import packages"
   ]
  },
  {
   "cell_type": "code",
   "execution_count": 120,
   "metadata": {},
   "outputs": [],
   "source": [
    "import pandas as pd\n",
    "import numpy as np"
   ]
  },
  {
   "cell_type": "markdown",
   "metadata": {},
   "source": [
    "## Series and DataFrames"
   ]
  },
  {
   "cell_type": "markdown",
   "metadata": {},
   "source": [
    "### Creating Pandas Series"
   ]
  },
  {
   "cell_type": "markdown",
   "metadata": {},
   "source": [
    "#### Example 1"
   ]
  },
  {
   "cell_type": "code",
   "execution_count": 71,
   "metadata": {},
   "outputs": [
    {
     "name": "stdout",
     "output_type": "stream",
     "text": [
      "0    1\n",
      "1    2\n",
      "2    3\n",
      "3    4\n",
      "4    5\n",
      "dtype: int64\n"
     ]
    }
   ],
   "source": [
    "a=[1,2,3,4,5]\n",
    "\n",
    "my_series = pd.Series(a)\n",
    "print(my_series)"
   ]
  },
  {
   "cell_type": "markdown",
   "metadata": {},
   "source": [
    "#### Example 2"
   ]
  },
  {
   "cell_type": "code",
   "execution_count": 72,
   "metadata": {},
   "outputs": [
    {
     "name": "stdout",
     "output_type": "stream",
     "text": [
      "day1    420\n",
      "day2    380\n",
      "day3    390\n",
      "dtype: int64\n"
     ]
    }
   ],
   "source": [
    "calories = {\"day1\": 420, \"day2\": 380, \"day3\": 390}\n",
    "\n",
    "#create a series\n",
    "my_series = pd.Series(calories)\n",
    "\n",
    "print(my_series)"
   ]
  },
  {
   "cell_type": "markdown",
   "metadata": {},
   "source": [
    "### Creating Pandas DataFrame"
   ]
  },
  {
   "cell_type": "markdown",
   "metadata": {},
   "source": [
    "#### Example 3"
   ]
  },
  {
   "cell_type": "code",
   "execution_count": 73,
   "metadata": {},
   "outputs": [
    {
     "name": "stdout",
     "output_type": "stream",
     "text": [
      "   0\n",
      "0  1\n",
      "1  2\n",
      "2  3\n",
      "3  4\n",
      "4  5\n"
     ]
    }
   ],
   "source": [
    "d = pd.Series([1,2,3,4,5])\n",
    "\n",
    "df = pd.DataFrame(d)\n",
    "\n",
    "print(df)"
   ]
  },
  {
   "cell_type": "markdown",
   "metadata": {},
   "source": [
    "#### Example 4"
   ]
  },
  {
   "cell_type": "code",
   "execution_count": 74,
   "metadata": {},
   "outputs": [
    {
     "name": "stdout",
     "output_type": "stream",
     "text": [
      "    Name  Age\n",
      "0  Ahmad   22\n",
      "1    Ali   25\n",
      "2   Nora   24\n",
      "3   Sara   28\n"
     ]
    }
   ],
   "source": [
    "data = {'Name': [\"Ahmad\", \"Ali\", \"Nora\", \"Sara\"],\n",
    "        'Age': [22, 25, 24, 28]\n",
    "        }\n",
    "\n",
    "df = pd.DataFrame(data)\n",
    "\n",
    "print(df)\n",
    "       "
   ]
  },
  {
   "cell_type": "markdown",
   "metadata": {},
   "source": [
    "#### Example 5"
   ]
  },
  {
   "cell_type": "code",
   "execution_count": 75,
   "metadata": {},
   "outputs": [
    {
     "name": "stdout",
     "output_type": "stream",
     "text": [
      "   calories  duration\n",
      "0       420        50\n",
      "1       380        40\n",
      "2       390        45\n"
     ]
    }
   ],
   "source": [
    "data = {\n",
    "        \"calories\": [420, 380, 390],\n",
    "        \"duration\": [50, 40, 45]\n",
    "        }\n",
    "\n",
    "df = pd.DataFrame(data)\n",
    "\n",
    "print(df)"
   ]
  },
  {
   "cell_type": "markdown",
   "metadata": {},
   "source": [
    "#### Example 6"
   ]
  },
  {
   "cell_type": "code",
   "execution_count": 76,
   "metadata": {},
   "outputs": [
    {
     "name": "stdout",
     "output_type": "stream",
     "text": [
      "    Waiter  total_bill   tip smoker   day   time  size\n",
      "0       10       27.20  4.00     No  Thur  Lunch     4\n",
      "1       10       22.76  3.00     No  Thur  Lunch     2\n",
      "2       11       17.29  2.71     No  Thur  Lunch     2\n",
      "3       11       19.44  3.00    Yes  Thur  Lunch     2\n",
      "4       33       16.66  3.40     No  Thur  Lunch     2\n",
      "5       33       10.07  1.83     No  Thur  Lunch     1\n",
      "6       30       32.68  5.00    Yes  Thur  Lunch     2\n",
      "7       30       15.98  2.03     No  Thur  Lunch     2\n",
      "8       12       34.83  5.17     No  Thur  Lunch     4\n",
      "9       10       13.03  2.00     No  Thur  Lunch     2\n",
      "10      11       18.28  4.00     No  Thur  Lunch     2\n",
      "11      12       24.71  5.85     No  Thur  Lunch     2\n",
      "12      33       21.16  3.00     No  Thur  Lunch     2\n"
     ]
    }
   ],
   "source": [
    "df = pd.read_csv('Lunch.csv')\n",
    "print(df)"
   ]
  },
  {
   "cell_type": "markdown",
   "metadata": {},
   "source": [
    "## Exploring DataFrames"
   ]
  },
  {
   "cell_type": "markdown",
   "metadata": {},
   "source": [
    "#### Example 7"
   ]
  },
  {
   "cell_type": "code",
   "execution_count": 77,
   "metadata": {},
   "outputs": [
    {
     "name": "stdout",
     "output_type": "stream",
     "text": [
      "   Waiter  total_bill   tip smoker  day    time  size\n",
      "0      10       16.99  1.01     No  Sun  Dinner     2\n",
      "1      10       10.34  1.66     No  Sun  Dinner     3\n",
      "2      11       21.01  3.50     No  Sun  Dinner     3\n"
     ]
    }
   ],
   "source": [
    "df = pd.read_csv('Dinner.csv')\n",
    "\n",
    "print(df.head(3))\n",
    "\n"
   ]
  },
  {
   "cell_type": "markdown",
   "metadata": {},
   "source": [
    "#### Example 8"
   ]
  },
  {
   "cell_type": "code",
   "execution_count": 78,
   "metadata": {},
   "outputs": [
    {
     "name": "stdout",
     "output_type": "stream",
     "text": [
      "   Waiter       type\n",
      "3      30  full time\n",
      "4      12  part time\n",
      "5      20  part time\n"
     ]
    }
   ],
   "source": [
    "df = pd.read_csv('Waiters.csv')\n",
    "\n",
    "print(df.tail(3))"
   ]
  },
  {
   "cell_type": "markdown",
   "metadata": {},
   "source": [
    "#### Example 9"
   ]
  },
  {
   "cell_type": "code",
   "execution_count": 79,
   "metadata": {},
   "outputs": [
    {
     "name": "stdout",
     "output_type": "stream",
     "text": [
      "(13, 7)\n"
     ]
    }
   ],
   "source": [
    "df = pd.read_csv('Lunch.csv')\n",
    "\n",
    "print(df.shape)\n",
    "\n",
    "#(rows, columns)"
   ]
  },
  {
   "cell_type": "markdown",
   "metadata": {},
   "source": [
    "#### Example 10"
   ]
  },
  {
   "cell_type": "code",
   "execution_count": 80,
   "metadata": {},
   "outputs": [
    {
     "name": "stdout",
     "output_type": "stream",
     "text": [
      "<class 'pandas.core.frame.DataFrame'>\n",
      "RangeIndex: 13 entries, 0 to 12\n",
      "Data columns (total 7 columns):\n",
      " #   Column      Non-Null Count  Dtype  \n",
      "---  ------      --------------  -----  \n",
      " 0   Waiter      13 non-null     int64  \n",
      " 1   total_bill  13 non-null     float64\n",
      " 2   tip         13 non-null     float64\n",
      " 3   smoker      13 non-null     object \n",
      " 4   day         13 non-null     object \n",
      " 5   time        13 non-null     object \n",
      " 6   size        13 non-null     int64  \n",
      "dtypes: float64(2), int64(2), object(3)\n",
      "memory usage: 860.0+ bytes\n",
      "None\n"
     ]
    }
   ],
   "source": [
    "df = pd.read_csv('Lunch.csv')\n",
    "print(df.info())"
   ]
  },
  {
   "cell_type": "markdown",
   "metadata": {},
   "source": [
    "## DataFrames Indexing"
   ]
  },
  {
   "cell_type": "code",
   "execution_count": 81,
   "metadata": {},
   "outputs": [
    {
     "name": "stdout",
     "output_type": "stream",
     "text": [
      "   col_1  col_2  col_3  col_4  col_5  col_6  col_7  col_8  col_9\n",
      "0      1     11     21     31     41     51     61     71     81\n",
      "1      2     12     22     32     42     52     62     72     82\n",
      "2      3     13     23     33     43     53     63     73     83\n",
      "3      4     14     24     34     44     54     64     74     84\n",
      "4      5     15     25     35     45     55     65     75     85\n",
      "5      6     16     26     36     46     56     66     76     86\n",
      "6      7     17     27     37     47     57     67     77     87\n",
      "7      8     18     28     38     48     58     68     78     88\n",
      "8      9     19     29     39     49     59     69     79     89\n",
      "9     10     20     30     40     50     60     70     80     90\n"
     ]
    }
   ],
   "source": [
    "df = pd.DataFrame(\n",
    "                    {\n",
    "                        'col_1': list(range(1, 11)), \n",
    "                        'col_2': list(range(11, 21)), \n",
    "                        'col_3': list(range(21, 31)), \n",
    "                        'col_4': list(range(31, 41)), \n",
    "                        'col_5': list(range(41, 51)), \n",
    "                        'col_6': list(range(51, 61)), \n",
    "                        'col_7': list(range(61, 71)), \n",
    "                        'col_8': list(range(71, 81)), \n",
    "                        'col_9': list(range(81, 91))\n",
    "                    }\n",
    "                )\n",
    "print(df)"
   ]
  },
  {
   "cell_type": "markdown",
   "metadata": {},
   "source": [
    "### Label-based Dataframe Indexing"
   ]
  },
  {
   "cell_type": "code",
   "execution_count": 82,
   "metadata": {},
   "outputs": [
    {
     "name": "stdout",
     "output_type": "stream",
     "text": [
      "Index(['col_1', 'col_2', 'col_3', 'col_4', 'col_5', 'col_6', 'col_7', 'col_8',\n",
      "       'col_9'],\n",
      "      dtype='object')\n",
      "------------------\n",
      "RangeIndex(start=0, stop=10, step=1)\n"
     ]
    }
   ],
   "source": [
    "print(df.columns)\n",
    "print(\"------------------\")\n",
    "print(df.index)"
   ]
  },
  {
   "cell_type": "markdown",
   "metadata": {},
   "source": [
    "#### Example 11"
   ]
  },
  {
   "cell_type": "code",
   "execution_count": 83,
   "metadata": {},
   "outputs": [
    {
     "name": "stdout",
     "output_type": "stream",
     "text": [
      "0    11\n",
      "1    12\n",
      "2    13\n",
      "3    14\n",
      "4    15\n",
      "5    16\n",
      "6    17\n",
      "7    18\n",
      "8    19\n",
      "9    20\n",
      "Name: col_2, dtype: int64\n",
      "------------------\n",
      "   col_5  col_1  col_8\n",
      "0     41      1     71\n",
      "1     42      2     72\n",
      "2     43      3     73\n",
      "3     44      4     74\n",
      "4     45      5     75\n",
      "5     46      6     76\n",
      "6     47      7     77\n",
      "7     48      8     78\n",
      "8     49      9     79\n",
      "9     50     10     80\n",
      "------------------\n"
     ]
    },
    {
     "ename": "KeyError",
     "evalue": "\"['col_100'] not in index\"",
     "output_type": "error",
     "traceback": [
      "\u001b[1;31m---------------------------------------------------------------------------\u001b[0m",
      "\u001b[1;31mKeyError\u001b[0m                                  Traceback (most recent call last)",
      "Cell \u001b[1;32mIn[83], line 5\u001b[0m\n\u001b[0;32m      3\u001b[0m \u001b[38;5;28mprint\u001b[39m(df[[\u001b[38;5;124m'\u001b[39m\u001b[38;5;124mcol_5\u001b[39m\u001b[38;5;124m'\u001b[39m, \u001b[38;5;124m'\u001b[39m\u001b[38;5;124mcol_1\u001b[39m\u001b[38;5;124m'\u001b[39m, \u001b[38;5;124m'\u001b[39m\u001b[38;5;124mcol_8\u001b[39m\u001b[38;5;124m'\u001b[39m]])\n\u001b[0;32m      4\u001b[0m \u001b[38;5;28mprint\u001b[39m(\u001b[38;5;124m\"\u001b[39m\u001b[38;5;124m------------------\u001b[39m\u001b[38;5;124m\"\u001b[39m)\n\u001b[1;32m----> 5\u001b[0m \u001b[38;5;28mprint\u001b[39m(\u001b[43mdf\u001b[49m\u001b[43m[\u001b[49m\u001b[43m[\u001b[49m\u001b[38;5;124;43m'\u001b[39;49m\u001b[38;5;124;43mcol_5\u001b[39;49m\u001b[38;5;124;43m'\u001b[39;49m\u001b[43m,\u001b[49m\u001b[43m \u001b[49m\u001b[38;5;124;43m'\u001b[39;49m\u001b[38;5;124;43mcol_1\u001b[39;49m\u001b[38;5;124;43m'\u001b[39;49m\u001b[43m,\u001b[49m\u001b[43m \u001b[49m\u001b[38;5;124;43m'\u001b[39;49m\u001b[38;5;124;43mcol_8\u001b[39;49m\u001b[38;5;124;43m'\u001b[39;49m\u001b[43m,\u001b[49m\u001b[43m \u001b[49m\u001b[38;5;124;43m'\u001b[39;49m\u001b[38;5;124;43mcol_100\u001b[39;49m\u001b[38;5;124;43m'\u001b[39;49m\u001b[43m]\u001b[49m\u001b[43m]\u001b[49m)\n",
      "File \u001b[1;32m~\\AppData\\Roaming\\Python\\Python312\\site-packages\\pandas\\core\\frame.py:4096\u001b[0m, in \u001b[0;36mDataFrame.__getitem__\u001b[1;34m(self, key)\u001b[0m\n\u001b[0;32m   4094\u001b[0m     \u001b[38;5;28;01mif\u001b[39;00m is_iterator(key):\n\u001b[0;32m   4095\u001b[0m         key \u001b[38;5;241m=\u001b[39m \u001b[38;5;28mlist\u001b[39m(key)\n\u001b[1;32m-> 4096\u001b[0m     indexer \u001b[38;5;241m=\u001b[39m \u001b[38;5;28;43mself\u001b[39;49m\u001b[38;5;241;43m.\u001b[39;49m\u001b[43mcolumns\u001b[49m\u001b[38;5;241;43m.\u001b[39;49m\u001b[43m_get_indexer_strict\u001b[49m\u001b[43m(\u001b[49m\u001b[43mkey\u001b[49m\u001b[43m,\u001b[49m\u001b[43m \u001b[49m\u001b[38;5;124;43m\"\u001b[39;49m\u001b[38;5;124;43mcolumns\u001b[39;49m\u001b[38;5;124;43m\"\u001b[39;49m\u001b[43m)\u001b[49m[\u001b[38;5;241m1\u001b[39m]\n\u001b[0;32m   4098\u001b[0m \u001b[38;5;66;03m# take() does not accept boolean indexers\u001b[39;00m\n\u001b[0;32m   4099\u001b[0m \u001b[38;5;28;01mif\u001b[39;00m \u001b[38;5;28mgetattr\u001b[39m(indexer, \u001b[38;5;124m\"\u001b[39m\u001b[38;5;124mdtype\u001b[39m\u001b[38;5;124m\"\u001b[39m, \u001b[38;5;28;01mNone\u001b[39;00m) \u001b[38;5;241m==\u001b[39m \u001b[38;5;28mbool\u001b[39m:\n",
      "File \u001b[1;32m~\\AppData\\Roaming\\Python\\Python312\\site-packages\\pandas\\core\\indexes\\base.py:6200\u001b[0m, in \u001b[0;36mIndex._get_indexer_strict\u001b[1;34m(self, key, axis_name)\u001b[0m\n\u001b[0;32m   6197\u001b[0m \u001b[38;5;28;01melse\u001b[39;00m:\n\u001b[0;32m   6198\u001b[0m     keyarr, indexer, new_indexer \u001b[38;5;241m=\u001b[39m \u001b[38;5;28mself\u001b[39m\u001b[38;5;241m.\u001b[39m_reindex_non_unique(keyarr)\n\u001b[1;32m-> 6200\u001b[0m \u001b[38;5;28;43mself\u001b[39;49m\u001b[38;5;241;43m.\u001b[39;49m\u001b[43m_raise_if_missing\u001b[49m\u001b[43m(\u001b[49m\u001b[43mkeyarr\u001b[49m\u001b[43m,\u001b[49m\u001b[43m \u001b[49m\u001b[43mindexer\u001b[49m\u001b[43m,\u001b[49m\u001b[43m \u001b[49m\u001b[43maxis_name\u001b[49m\u001b[43m)\u001b[49m\n\u001b[0;32m   6202\u001b[0m keyarr \u001b[38;5;241m=\u001b[39m \u001b[38;5;28mself\u001b[39m\u001b[38;5;241m.\u001b[39mtake(indexer)\n\u001b[0;32m   6203\u001b[0m \u001b[38;5;28;01mif\u001b[39;00m \u001b[38;5;28misinstance\u001b[39m(key, Index):\n\u001b[0;32m   6204\u001b[0m     \u001b[38;5;66;03m# GH 42790 - Preserve name from an Index\u001b[39;00m\n",
      "File \u001b[1;32m~\\AppData\\Roaming\\Python\\Python312\\site-packages\\pandas\\core\\indexes\\base.py:6252\u001b[0m, in \u001b[0;36mIndex._raise_if_missing\u001b[1;34m(self, key, indexer, axis_name)\u001b[0m\n\u001b[0;32m   6249\u001b[0m     \u001b[38;5;28;01mraise\u001b[39;00m \u001b[38;5;167;01mKeyError\u001b[39;00m(\u001b[38;5;124mf\u001b[39m\u001b[38;5;124m\"\u001b[39m\u001b[38;5;124mNone of [\u001b[39m\u001b[38;5;132;01m{\u001b[39;00mkey\u001b[38;5;132;01m}\u001b[39;00m\u001b[38;5;124m] are in the [\u001b[39m\u001b[38;5;132;01m{\u001b[39;00maxis_name\u001b[38;5;132;01m}\u001b[39;00m\u001b[38;5;124m]\u001b[39m\u001b[38;5;124m\"\u001b[39m)\n\u001b[0;32m   6251\u001b[0m not_found \u001b[38;5;241m=\u001b[39m \u001b[38;5;28mlist\u001b[39m(ensure_index(key)[missing_mask\u001b[38;5;241m.\u001b[39mnonzero()[\u001b[38;5;241m0\u001b[39m]]\u001b[38;5;241m.\u001b[39munique())\n\u001b[1;32m-> 6252\u001b[0m \u001b[38;5;28;01mraise\u001b[39;00m \u001b[38;5;167;01mKeyError\u001b[39;00m(\u001b[38;5;124mf\u001b[39m\u001b[38;5;124m\"\u001b[39m\u001b[38;5;132;01m{\u001b[39;00mnot_found\u001b[38;5;132;01m}\u001b[39;00m\u001b[38;5;124m not in index\u001b[39m\u001b[38;5;124m\"\u001b[39m)\n",
      "\u001b[1;31mKeyError\u001b[0m: \"['col_100'] not in index\""
     ]
    }
   ],
   "source": [
    "print(df['col_2'])\n",
    "print(\"------------------\")\n",
    "print(df[['col_5', 'col_1', 'col_8']])\n",
    "print(\"------------------\")\n",
    "print(df[['col_5', 'col_1', 'col_8', 'col_100']])"
   ]
  },
  {
   "cell_type": "markdown",
   "metadata": {},
   "source": [
    "#### Example  12"
   ]
  },
  {
   "cell_type": "code",
   "execution_count": null,
   "metadata": {},
   "outputs": [
    {
     "name": "stdout",
     "output_type": "stream",
     "text": [
      "col_1     1\n",
      "col_2    11\n",
      "col_3    21\n",
      "col_4    31\n",
      "col_5    41\n",
      "col_6    51\n",
      "col_7    61\n",
      "col_8    71\n",
      "col_9    81\n",
      "Name: 0, dtype: int64\n"
     ]
    }
   ],
   "source": [
    "print(df.loc[0])"
   ]
  },
  {
   "cell_type": "markdown",
   "metadata": {},
   "source": [
    "Rename Index (row name)"
   ]
  },
  {
   "cell_type": "code",
   "execution_count": null,
   "metadata": {},
   "outputs": [],
   "source": [
    "df.index = ['row_1', 'row_2', 'row_3', 'row_4', 'row_5', 'row_6',\n",
    "'row_7', 'row_8', 'row_9', 'row_10']"
   ]
  },
  {
   "cell_type": "code",
   "execution_count": null,
   "metadata": {},
   "outputs": [
    {
     "name": "stdout",
     "output_type": "stream",
     "text": [
      "       col_1  col_2  col_3  col_4  col_5  col_6  col_7  col_8  col_9\n",
      "row_6      6     16     26     36     46     56     66     76     86\n",
      "row_2      2     12     22     32     42     52     62     72     82\n",
      "row_9      9     19     29     39     49     59     69     79     89\n",
      "------------------\n"
     ]
    },
    {
     "ename": "KeyError",
     "evalue": "\"['row_100'] not in index\"",
     "output_type": "error",
     "traceback": [
      "\u001b[1;31m---------------------------------------------------------------------------\u001b[0m",
      "\u001b[1;31mKeyError\u001b[0m                                  Traceback (most recent call last)",
      "Cell \u001b[1;32mIn[39], line 3\u001b[0m\n\u001b[0;32m      1\u001b[0m \u001b[38;5;28mprint\u001b[39m(df\u001b[38;5;241m.\u001b[39mloc[[\u001b[38;5;124m'\u001b[39m\u001b[38;5;124mrow_6\u001b[39m\u001b[38;5;124m'\u001b[39m, \u001b[38;5;124m'\u001b[39m\u001b[38;5;124mrow_2\u001b[39m\u001b[38;5;124m'\u001b[39m, \u001b[38;5;124m'\u001b[39m\u001b[38;5;124mrow_9\u001b[39m\u001b[38;5;124m'\u001b[39m]])\n\u001b[0;32m      2\u001b[0m \u001b[38;5;28mprint\u001b[39m(\u001b[38;5;124m\"\u001b[39m\u001b[38;5;124m------------------\u001b[39m\u001b[38;5;124m\"\u001b[39m)\n\u001b[1;32m----> 3\u001b[0m \u001b[38;5;28mprint\u001b[39m(\u001b[43mdf\u001b[49m\u001b[38;5;241;43m.\u001b[39;49m\u001b[43mloc\u001b[49m\u001b[43m[\u001b[49m\u001b[43m[\u001b[49m\u001b[38;5;124;43m'\u001b[39;49m\u001b[38;5;124;43mrow_6\u001b[39;49m\u001b[38;5;124;43m'\u001b[39;49m\u001b[43m,\u001b[49m\u001b[43m \u001b[49m\u001b[38;5;124;43m'\u001b[39;49m\u001b[38;5;124;43mrow_2\u001b[39;49m\u001b[38;5;124;43m'\u001b[39;49m\u001b[43m,\u001b[49m\u001b[43m \u001b[49m\u001b[38;5;124;43m'\u001b[39;49m\u001b[38;5;124;43mrow_9\u001b[39;49m\u001b[38;5;124;43m'\u001b[39;49m\u001b[43m,\u001b[49m\u001b[43m \u001b[49m\u001b[38;5;124;43m'\u001b[39;49m\u001b[38;5;124;43mrow_100\u001b[39;49m\u001b[38;5;124;43m'\u001b[39;49m\u001b[43m]\u001b[49m\u001b[43m]\u001b[49m)\n\u001b[0;32m      4\u001b[0m \u001b[38;5;28mprint\u001b[39m(\u001b[38;5;124m\"\u001b[39m\u001b[38;5;124m------------------\u001b[39m\u001b[38;5;124m\"\u001b[39m)\n\u001b[0;32m      5\u001b[0m \u001b[38;5;28mprint\u001b[39m(df\u001b[38;5;241m.\u001b[39mloc[\u001b[38;5;124m'\u001b[39m\u001b[38;5;124mrow_7\u001b[39m\u001b[38;5;124m'\u001b[39m:\u001b[38;5;124m'\u001b[39m\u001b[38;5;124mrow_9\u001b[39m\u001b[38;5;124m'\u001b[39m])\n",
      "File \u001b[1;32m~\\AppData\\Roaming\\Python\\Python312\\site-packages\\pandas\\core\\indexing.py:1191\u001b[0m, in \u001b[0;36m_LocationIndexer.__getitem__\u001b[1;34m(self, key)\u001b[0m\n\u001b[0;32m   1189\u001b[0m maybe_callable \u001b[38;5;241m=\u001b[39m com\u001b[38;5;241m.\u001b[39mapply_if_callable(key, \u001b[38;5;28mself\u001b[39m\u001b[38;5;241m.\u001b[39mobj)\n\u001b[0;32m   1190\u001b[0m maybe_callable \u001b[38;5;241m=\u001b[39m \u001b[38;5;28mself\u001b[39m\u001b[38;5;241m.\u001b[39m_check_deprecated_callable_usage(key, maybe_callable)\n\u001b[1;32m-> 1191\u001b[0m \u001b[38;5;28;01mreturn\u001b[39;00m \u001b[38;5;28;43mself\u001b[39;49m\u001b[38;5;241;43m.\u001b[39;49m\u001b[43m_getitem_axis\u001b[49m\u001b[43m(\u001b[49m\u001b[43mmaybe_callable\u001b[49m\u001b[43m,\u001b[49m\u001b[43m \u001b[49m\u001b[43maxis\u001b[49m\u001b[38;5;241;43m=\u001b[39;49m\u001b[43maxis\u001b[49m\u001b[43m)\u001b[49m\n",
      "File \u001b[1;32m~\\AppData\\Roaming\\Python\\Python312\\site-packages\\pandas\\core\\indexing.py:1420\u001b[0m, in \u001b[0;36m_LocIndexer._getitem_axis\u001b[1;34m(self, key, axis)\u001b[0m\n\u001b[0;32m   1417\u001b[0m     \u001b[38;5;28;01mif\u001b[39;00m \u001b[38;5;28mhasattr\u001b[39m(key, \u001b[38;5;124m\"\u001b[39m\u001b[38;5;124mndim\u001b[39m\u001b[38;5;124m\"\u001b[39m) \u001b[38;5;129;01mand\u001b[39;00m key\u001b[38;5;241m.\u001b[39mndim \u001b[38;5;241m>\u001b[39m \u001b[38;5;241m1\u001b[39m:\n\u001b[0;32m   1418\u001b[0m         \u001b[38;5;28;01mraise\u001b[39;00m \u001b[38;5;167;01mValueError\u001b[39;00m(\u001b[38;5;124m\"\u001b[39m\u001b[38;5;124mCannot index with multidimensional key\u001b[39m\u001b[38;5;124m\"\u001b[39m)\n\u001b[1;32m-> 1420\u001b[0m     \u001b[38;5;28;01mreturn\u001b[39;00m \u001b[38;5;28;43mself\u001b[39;49m\u001b[38;5;241;43m.\u001b[39;49m\u001b[43m_getitem_iterable\u001b[49m\u001b[43m(\u001b[49m\u001b[43mkey\u001b[49m\u001b[43m,\u001b[49m\u001b[43m \u001b[49m\u001b[43maxis\u001b[49m\u001b[38;5;241;43m=\u001b[39;49m\u001b[43maxis\u001b[49m\u001b[43m)\u001b[49m\n\u001b[0;32m   1422\u001b[0m \u001b[38;5;66;03m# nested tuple slicing\u001b[39;00m\n\u001b[0;32m   1423\u001b[0m \u001b[38;5;28;01mif\u001b[39;00m is_nested_tuple(key, labels):\n",
      "File \u001b[1;32m~\\AppData\\Roaming\\Python\\Python312\\site-packages\\pandas\\core\\indexing.py:1360\u001b[0m, in \u001b[0;36m_LocIndexer._getitem_iterable\u001b[1;34m(self, key, axis)\u001b[0m\n\u001b[0;32m   1357\u001b[0m \u001b[38;5;28mself\u001b[39m\u001b[38;5;241m.\u001b[39m_validate_key(key, axis)\n\u001b[0;32m   1359\u001b[0m \u001b[38;5;66;03m# A collection of keys\u001b[39;00m\n\u001b[1;32m-> 1360\u001b[0m keyarr, indexer \u001b[38;5;241m=\u001b[39m \u001b[38;5;28;43mself\u001b[39;49m\u001b[38;5;241;43m.\u001b[39;49m\u001b[43m_get_listlike_indexer\u001b[49m\u001b[43m(\u001b[49m\u001b[43mkey\u001b[49m\u001b[43m,\u001b[49m\u001b[43m \u001b[49m\u001b[43maxis\u001b[49m\u001b[43m)\u001b[49m\n\u001b[0;32m   1361\u001b[0m \u001b[38;5;28;01mreturn\u001b[39;00m \u001b[38;5;28mself\u001b[39m\u001b[38;5;241m.\u001b[39mobj\u001b[38;5;241m.\u001b[39m_reindex_with_indexers(\n\u001b[0;32m   1362\u001b[0m     {axis: [keyarr, indexer]}, copy\u001b[38;5;241m=\u001b[39m\u001b[38;5;28;01mTrue\u001b[39;00m, allow_dups\u001b[38;5;241m=\u001b[39m\u001b[38;5;28;01mTrue\u001b[39;00m\n\u001b[0;32m   1363\u001b[0m )\n",
      "File \u001b[1;32m~\\AppData\\Roaming\\Python\\Python312\\site-packages\\pandas\\core\\indexing.py:1558\u001b[0m, in \u001b[0;36m_LocIndexer._get_listlike_indexer\u001b[1;34m(self, key, axis)\u001b[0m\n\u001b[0;32m   1555\u001b[0m ax \u001b[38;5;241m=\u001b[39m \u001b[38;5;28mself\u001b[39m\u001b[38;5;241m.\u001b[39mobj\u001b[38;5;241m.\u001b[39m_get_axis(axis)\n\u001b[0;32m   1556\u001b[0m axis_name \u001b[38;5;241m=\u001b[39m \u001b[38;5;28mself\u001b[39m\u001b[38;5;241m.\u001b[39mobj\u001b[38;5;241m.\u001b[39m_get_axis_name(axis)\n\u001b[1;32m-> 1558\u001b[0m keyarr, indexer \u001b[38;5;241m=\u001b[39m \u001b[43max\u001b[49m\u001b[38;5;241;43m.\u001b[39;49m\u001b[43m_get_indexer_strict\u001b[49m\u001b[43m(\u001b[49m\u001b[43mkey\u001b[49m\u001b[43m,\u001b[49m\u001b[43m \u001b[49m\u001b[43maxis_name\u001b[49m\u001b[43m)\u001b[49m\n\u001b[0;32m   1560\u001b[0m \u001b[38;5;28;01mreturn\u001b[39;00m keyarr, indexer\n",
      "File \u001b[1;32m~\\AppData\\Roaming\\Python\\Python312\\site-packages\\pandas\\core\\indexes\\base.py:6200\u001b[0m, in \u001b[0;36mIndex._get_indexer_strict\u001b[1;34m(self, key, axis_name)\u001b[0m\n\u001b[0;32m   6197\u001b[0m \u001b[38;5;28;01melse\u001b[39;00m:\n\u001b[0;32m   6198\u001b[0m     keyarr, indexer, new_indexer \u001b[38;5;241m=\u001b[39m \u001b[38;5;28mself\u001b[39m\u001b[38;5;241m.\u001b[39m_reindex_non_unique(keyarr)\n\u001b[1;32m-> 6200\u001b[0m \u001b[38;5;28;43mself\u001b[39;49m\u001b[38;5;241;43m.\u001b[39;49m\u001b[43m_raise_if_missing\u001b[49m\u001b[43m(\u001b[49m\u001b[43mkeyarr\u001b[49m\u001b[43m,\u001b[49m\u001b[43m \u001b[49m\u001b[43mindexer\u001b[49m\u001b[43m,\u001b[49m\u001b[43m \u001b[49m\u001b[43maxis_name\u001b[49m\u001b[43m)\u001b[49m\n\u001b[0;32m   6202\u001b[0m keyarr \u001b[38;5;241m=\u001b[39m \u001b[38;5;28mself\u001b[39m\u001b[38;5;241m.\u001b[39mtake(indexer)\n\u001b[0;32m   6203\u001b[0m \u001b[38;5;28;01mif\u001b[39;00m \u001b[38;5;28misinstance\u001b[39m(key, Index):\n\u001b[0;32m   6204\u001b[0m     \u001b[38;5;66;03m# GH 42790 - Preserve name from an Index\u001b[39;00m\n",
      "File \u001b[1;32m~\\AppData\\Roaming\\Python\\Python312\\site-packages\\pandas\\core\\indexes\\base.py:6252\u001b[0m, in \u001b[0;36mIndex._raise_if_missing\u001b[1;34m(self, key, indexer, axis_name)\u001b[0m\n\u001b[0;32m   6249\u001b[0m     \u001b[38;5;28;01mraise\u001b[39;00m \u001b[38;5;167;01mKeyError\u001b[39;00m(\u001b[38;5;124mf\u001b[39m\u001b[38;5;124m\"\u001b[39m\u001b[38;5;124mNone of [\u001b[39m\u001b[38;5;132;01m{\u001b[39;00mkey\u001b[38;5;132;01m}\u001b[39;00m\u001b[38;5;124m] are in the [\u001b[39m\u001b[38;5;132;01m{\u001b[39;00maxis_name\u001b[38;5;132;01m}\u001b[39;00m\u001b[38;5;124m]\u001b[39m\u001b[38;5;124m\"\u001b[39m)\n\u001b[0;32m   6251\u001b[0m not_found \u001b[38;5;241m=\u001b[39m \u001b[38;5;28mlist\u001b[39m(ensure_index(key)[missing_mask\u001b[38;5;241m.\u001b[39mnonzero()[\u001b[38;5;241m0\u001b[39m]]\u001b[38;5;241m.\u001b[39munique())\n\u001b[1;32m-> 6252\u001b[0m \u001b[38;5;28;01mraise\u001b[39;00m \u001b[38;5;167;01mKeyError\u001b[39;00m(\u001b[38;5;124mf\u001b[39m\u001b[38;5;124m\"\u001b[39m\u001b[38;5;132;01m{\u001b[39;00mnot_found\u001b[38;5;132;01m}\u001b[39;00m\u001b[38;5;124m not in index\u001b[39m\u001b[38;5;124m\"\u001b[39m)\n",
      "\u001b[1;31mKeyError\u001b[0m: \"['row_100'] not in index\""
     ]
    }
   ],
   "source": [
    "print(df.loc[['row_6', 'row_2', 'row_9']])\n",
    "print(\"------------------\")\n",
    "print(df.loc[['row_6', 'row_2', 'row_9', 'row_100']])\n",
    "print(\"------------------\")\n",
    "print(df.loc['row_7':'row_9'])"
   ]
  },
  {
   "cell_type": "markdown",
   "metadata": {},
   "source": [
    "#### Task 1: Print the first 4 rows using the slicing method."
   ]
  },
  {
   "cell_type": "code",
   "execution_count": null,
   "metadata": {},
   "outputs": [
    {
     "name": "stdout",
     "output_type": "stream",
     "text": [
      "       col_1  col_2  col_3  col_4  col_5  col_6  col_7  col_8  col_9\n",
      "row_1      1     11     21     31     41     51     61     71     81\n",
      "row_2      2     12     22     32     42     52     62     72     82\n",
      "row_3      3     13     23     33     43     53     63     73     83\n",
      "row_4      4     14     24     34     44     54     64     74     84\n"
     ]
    }
   ],
   "source": [
    "print(df.loc['row_1':'row_4'])"
   ]
  },
  {
   "cell_type": "markdown",
   "metadata": {},
   "source": [
    "#### Task 2: Print the last row with columns from col_5 to col_7."
   ]
  },
  {
   "cell_type": "code",
   "execution_count": null,
   "metadata": {},
   "outputs": [
    {
     "name": "stdout",
     "output_type": "stream",
     "text": [
      "col_5    50\n",
      "col_6    60\n",
      "col_7    70\n",
      "Name: row_10, dtype: int64\n"
     ]
    }
   ],
   "source": [
    "\n",
    "print(df.loc['row_10', 'col_5':'col_7'])"
   ]
  },
  {
   "cell_type": "code",
   "execution_count": null,
   "metadata": {},
   "outputs": [
    {
     "data": {
      "text/plain": [
       "26"
      ]
     },
     "execution_count": 47,
     "metadata": {},
     "output_type": "execute_result"
    }
   ],
   "source": [
    "df.at['row_6', 'col_3']"
   ]
  },
  {
   "cell_type": "markdown",
   "metadata": {},
   "source": [
    "### Position-based Dataframe Indexing"
   ]
  },
  {
   "cell_type": "code",
   "execution_count": null,
   "metadata": {},
   "outputs": [
    {
     "name": "stdout",
     "output_type": "stream",
     "text": [
      "       col_1  col_2  col_3  col_4  col_5  col_6  col_7  col_8  col_9\n",
      "row_4      4     14     24     34     44     54     64     74     84\n",
      "row_5      5     15     25     35     45     55     65     75     85\n",
      "row_6      6     16     26     36     46     56     66     76     86\n",
      "------------------\n",
      "col_1     4\n",
      "col_2    14\n",
      "col_3    24\n",
      "col_4    34\n",
      "col_5    44\n",
      "col_6    54\n",
      "col_7    64\n",
      "col_8    74\n",
      "col_9    84\n",
      "Name: row_4, dtype: int64\n",
      "------------------\n",
      "        col_1  col_2  col_3  col_4  col_5  col_6  col_7  col_8  col_9\n",
      "row_10     10     20     30     40     50     60     70     80     90\n",
      "row_9       9     19     29     39     49     59     69     79     89\n",
      "row_8       8     18     28     38     48     58     68     78     88\n",
      "------------------\n",
      "col_3    21\n",
      "col_9    81\n",
      "col_4    31\n",
      "Name: row_1, dtype: int64\n",
      "------------------\n",
      "22\n"
     ]
    }
   ],
   "source": [
    "print(df[3:6])\n",
    "print(\"------------------\")\n",
    "print(df.iloc[3])\n",
    "print(\"------------------\")\n",
    "print(df.iloc[[9, 8, 7]])\n",
    "print(\"------------------\")\n",
    "print(df.iloc[0, [2, 8, 3]])\n",
    "print(\"------------------\")\n",
    "print(df.iat[1, 2])"
   ]
  },
  {
   "cell_type": "markdown",
   "metadata": {},
   "source": [
    "#### Task 3: Use iloc with position-based indexing to select rows 8, and 1 and columns 5 to 9."
   ]
  },
  {
   "cell_type": "code",
   "execution_count": null,
   "metadata": {},
   "outputs": [
    {
     "name": "stdout",
     "output_type": "stream",
     "text": [
      "       col_6  col_7  col_8  col_9\n",
      "row_9     59     69     79     89\n",
      "row_2     52     62     72     82\n"
     ]
    }
   ],
   "source": [
    "\n",
    "print(df.iloc[[8,1],5:9])\n",
    "\n"
   ]
  },
  {
   "cell_type": "markdown",
   "metadata": {},
   "source": [
    "#### Task 4: Use iloc with position-based indexing to select all rows and columns 1, 3, and 7."
   ]
  },
  {
   "cell_type": "code",
   "execution_count": null,
   "metadata": {},
   "outputs": [
    {
     "name": "stdout",
     "output_type": "stream",
     "text": [
      "        col_2  col_4  col_8\n",
      "row_1      11     31     71\n",
      "row_2      12     32     72\n",
      "row_3      13     33     73\n",
      "row_4      14     34     74\n",
      "row_5      15     35     75\n",
      "row_6      16     36     76\n",
      "row_7      17     37     77\n",
      "row_8      18     38     78\n",
      "row_9      19     39     79\n",
      "row_10     20     40     80\n"
     ]
    }
   ],
   "source": [
    "print(df.iloc[:, [1, 3, 7]])"
   ]
  },
  {
   "cell_type": "markdown",
   "metadata": {},
   "source": [
    "### Boolean Dataframe Indexing"
   ]
  },
  {
   "cell_type": "markdown",
   "metadata": {},
   "source": [
    "#### Task 5: Selecting all the rows of the dataframe where the value of col_2 is NOT greater than 15"
   ]
  },
  {
   "cell_type": "code",
   "execution_count": 86,
   "metadata": {},
   "outputs": [
    {
     "name": "stdout",
     "output_type": "stream",
     "text": [
      "   col_1  col_2  col_3  col_4  col_5  col_6  col_7  col_8  col_9\n",
      "0      1     11     21     31     41     51     61     71     81\n",
      "1      2     12     22     32     42     52     62     72     82\n",
      "2      3     13     23     33     43     53     63     73     83\n",
      "3      4     14     24     34     44     54     64     74     84\n",
      "4      5     15     25     35     45     55     65     75     85\n"
     ]
    }
   ],
   "source": [
    "condition = df['col_2'] <= 15\n",
    "\n",
    "print(df[condition])"
   ]
  },
  {
   "cell_type": "markdown",
   "metadata": {},
   "source": [
    "Task 6: Selecting all the rows of the dataframe where the value of col_2 is greater than\n",
    "15 but not equal to 19"
   ]
  },
  {
   "cell_type": "code",
   "execution_count": null,
   "metadata": {},
   "outputs": [
    {
     "name": "stdout",
     "output_type": "stream",
     "text": [
      "        col_1  col_2  col_3  col_4  col_5  col_6  col_7  col_8  col_9\n",
      "row_6       6     16     26     36     46     56     66     76     86\n",
      "row_7       7     17     27     37     47     57     67     77     87\n",
      "row_8       8     18     28     38     48     58     68     78     88\n",
      "row_10     10     20     30     40     50     60     70     80     90\n"
     ]
    }
   ],
   "source": [
    "condition1 = df['col_2'] > 15 \n",
    "condition2 = df['col_2'] != 19\n",
    "condition = condition1 & condition2\n",
    "print(df[condition])"
   ]
  },
  {
   "cell_type": "markdown",
   "metadata": {},
   "source": [
    "### Saving Dataframe to CSV file"
   ]
  },
  {
   "cell_type": "markdown",
   "metadata": {},
   "source": [
    "#### Example 13"
   ]
  },
  {
   "cell_type": "code",
   "execution_count": 87,
   "metadata": {},
   "outputs": [],
   "source": [
    "# Create a sample dataframe\n",
    "Biodata = {'Name': ['Ahmad', 'Ali', 'Omar', 'Hamzah'],\n",
    "'Age': [28, 23, 35, 31],\n",
    "'Gender': ['M', 'F', 'M', 'F']\n",
    "}\n",
    "df = pd.DataFrame(Biodata)\n",
    "# Save the dataframe to a CSV file\n",
    "df.to_csv('Biodata.csv', index=False)"
   ]
  },
  {
   "cell_type": "markdown",
   "metadata": {},
   "source": [
    "#### Task 7: Save the above dataframe using tab-separated values"
   ]
  },
  {
   "cell_type": "code",
   "execution_count": 89,
   "metadata": {},
   "outputs": [],
   "source": [
    "# Create a sample dataframe\n",
    "Biodata = {'Name': ['Ahmad', 'Ali', 'Omar', 'Hamzah'],\n",
    "'Age': [28, 23, 35, 31],\n",
    "'Gender': ['M', 'F', 'M', 'F']\n",
    "}\n",
    "df = pd.DataFrame(Biodata)\n",
    "# Save the dataframe to a CSV file\n",
    "df.to_csv('Biodata.csv', sep=\"\\t\" , index=False)"
   ]
  },
  {
   "cell_type": "markdown",
   "metadata": {},
   "source": [
    "## Dealing with Rows and Columns in Panda's DataFrame"
   ]
  },
  {
   "cell_type": "markdown",
   "metadata": {},
   "source": [
    "### Column Addition:"
   ]
  },
  {
   "cell_type": "markdown",
   "metadata": {},
   "source": [
    "#### Example 14"
   ]
  },
  {
   "cell_type": "code",
   "execution_count": 92,
   "metadata": {},
   "outputs": [
    {
     "name": "stdout",
     "output_type": "stream",
     "text": [
      "     Name  Height Qualification\n",
      "0   Ahmad     5.1           Msc\n",
      "1     Ali     6.2            MA\n",
      "2    Omar     5.1           Msc\n",
      "3  Hamzah     5.2           Msc\n",
      "-------------------------------\n",
      "     Name  Height Qualification    Address\n",
      "0   Ahmad     5.1           Msc      Delhi\n",
      "1     Ali     6.2            MA  Bangalore\n",
      "2    Omar     5.1           Msc    Chennai\n",
      "3  Hamzah     5.2           Msc      Patna\n"
     ]
    }
   ],
   "source": [
    "import pandas as pd\n",
    "# Define a dictionary containing Students data\n",
    "data = {'Name': ['Ahmad', 'Ali', 'Omar', 'Hamzah'],\n",
    "'Height': [5.1, 6.2, 5.1, 5.2],\n",
    "'Qualification': ['Msc', 'MA', 'Msc', 'Msc']}\n",
    "# Convert the dictionary into DataFrame\n",
    "df = pd.DataFrame(data)\n",
    "print(df)\n",
    "print(\"-------------------------------\")\n",
    "# Declare a list that is to be converted into a column\n",
    "address = ['Delhi', 'Bangalore', 'Chennai', 'Patna']\n",
    "# Using 'Address' as the column name and equating it to the list\n",
    "df['Address'] = address\n",
    "# Observe the result\n",
    "print(df)"
   ]
  },
  {
   "cell_type": "markdown",
   "metadata": {},
   "source": [
    "#### Task 8: Add a new column (on the dataframe above) named Age with the following values [21, 23, 24, 21] and make it the third column."
   ]
  },
  {
   "cell_type": "code",
   "execution_count": 94,
   "metadata": {},
   "outputs": [
    {
     "name": "stdout",
     "output_type": "stream",
     "text": [
      "     Name  Height  Age Qualification    Address\n",
      "0   Ahmad     5.1   21           Msc      Delhi\n",
      "1     Ali     6.2   23            MA  Bangalore\n",
      "2    Omar     5.1   24           Msc    Chennai\n",
      "3  Hamzah     5.2   21           Msc      Patna\n"
     ]
    }
   ],
   "source": [
    "df.insert(column=\"Age\", value=[21, 23, 24, 21], loc=2)\n",
    "\n",
    "print(df)"
   ]
  },
  {
   "cell_type": "markdown",
   "metadata": {},
   "source": [
    "### Column Deletion"
   ]
  },
  {
   "cell_type": "markdown",
   "metadata": {},
   "source": [
    "#### Example 15"
   ]
  },
  {
   "cell_type": "code",
   "execution_count": 97,
   "metadata": {},
   "outputs": [
    {
     "name": "stdout",
     "output_type": "stream",
     "text": [
      "     Name  Height Qualification  Age\n",
      "0   Ahmad     5.1           Msc   21\n",
      "1     Ali     6.2            MA   23\n",
      "2    Omar     5.1           Msc   24\n",
      "3  Hamzah     5.2           Msc   21\n",
      "===============================\n",
      "     Name  Height Qualification  Age\n",
      "0   Ahmad     5.1           Msc   21\n",
      "1     Ali     6.2            MA   23\n",
      "2    Omar     5.1           Msc   24\n",
      "3  Hamzah     5.2           Msc   21\n",
      "-------------------------------\n",
      "     Name Qualification  Age\n",
      "0   Ahmad           Msc   21\n",
      "1     Ali            MA   23\n",
      "2    Omar           Msc   24\n",
      "3  Hamzah           Msc   21\n"
     ]
    }
   ],
   "source": [
    "import pandas as pd\n",
    "# Define a dictionary containing Students data\n",
    "data = {'Name': ['Ahmad', 'Ali', 'Omar', 'Hamzah'],\n",
    "    'Height': [5.1, 6.2, 5.1, 5.2],\n",
    "    'Qualification': ['Msc', 'MA', 'Msc', 'Msc'],\n",
    "    'Age': [21, 23, 24, 21]\n",
    "    }\n",
    "# Convert the dictionary into DataFrame\n",
    "df = pd.DataFrame(data)\n",
    "print(df)\n",
    "print(\"===============================\")\n",
    "# dropping passed columns\n",
    "df1 = df.drop([\"Height\"], axis = 1)\n",
    "# Observe the result\n",
    "print(df)\n",
    "print(\"-------------------------------\")\n",
    "print(df1)"
   ]
  },
  {
   "cell_type": "markdown",
   "metadata": {},
   "source": [
    "#### Task 9: Remove column Height and column Age from the existing referring dataframe."
   ]
  },
  {
   "cell_type": "code",
   "execution_count": 98,
   "metadata": {},
   "outputs": [
    {
     "name": "stdout",
     "output_type": "stream",
     "text": [
      "     Name Qualification\n",
      "0   Ahmad           Msc\n",
      "1     Ali            MA\n",
      "2    Omar           Msc\n",
      "3  Hamzah           Msc\n"
     ]
    }
   ],
   "source": [
    "df.drop([\"Height\", \"Age\"], axis = 1, inplace = True)\n",
    "print(df)"
   ]
  },
  {
   "cell_type": "markdown",
   "metadata": {},
   "source": [
    "### Adding new row to DataFrame"
   ]
  },
  {
   "cell_type": "markdown",
   "metadata": {},
   "source": [
    "#### Example 14"
   ]
  },
  {
   "cell_type": "code",
   "execution_count": 118,
   "metadata": {},
   "outputs": [
    {
     "name": "stdout",
     "output_type": "stream",
     "text": [
      "   Courses    Fee Duration  Discount\n",
      "0    Spark  22000   30days      1000\n",
      "1  PySpark  25000   50days      2300\n",
      "2   Hadoop  23000   35days      1000\n",
      "3   Python  24000   40days      1200\n",
      "4   Pandas  26000   55days      2500\n",
      "-------------------------------\n",
      "    Courses    Fee Duration  Discount\n",
      "0     Spark  22000   30days      1000\n",
      "1   PySpark  25000   50days      2300\n",
      "2    Hadoop  23000   35days      1000\n",
      "3    Python  24000   40days      1200\n",
      "4    Pandas  26000   55days      2500\n",
      "5  Hyperion  27000   60days      2000\n"
     ]
    }
   ],
   "source": [
    "technologies= {\n",
    "    'Courses':[\"Spark\",\"PySpark\",\"Hadoop\",\"Python\",\"Pandas\"],\n",
    "    'Fee' :[22000,25000,23000,24000,26000],\n",
    "    'Duration':['30days','50days','35days', '40days','55days'],\n",
    "    'Discount':[1000,2300,1000,1200,2500]\n",
    "}\n",
    "df = pd.DataFrame(technologies)\n",
    "print(df)\n",
    "print(\"-------------------------------\")\n",
    "# New list to append Row to DataFrame\n",
    "list = [\"Hyperion\", 27000, \"60days\", 2000]\n",
    "df.loc[len(df)] = list\n",
    "print(df)"
   ]
  },
  {
   "cell_type": "markdown",
   "metadata": {},
   "source": [
    "#### Task 10: use .iloc to insert the new row above into the second position of the DataFrame."
   ]
  },
  {
   "cell_type": "code",
   "execution_count": 119,
   "metadata": {},
   "outputs": [
    {
     "name": "stdout",
     "output_type": "stream",
     "text": [
      "    Courses    Fee Duration  Discount\n",
      "0     Spark  22000   30days      1000\n",
      "1   PySpark  25000   50days      2300\n",
      "2    Hadoop  23000   35days      1000\n",
      "3    Python  24000   40days      1200\n",
      "4    Pandas  26000   55days      2500\n",
      "5  Hyperion  27000   60days      2000\n",
      "-------------------------------\n",
      "    Courses    Fee Duration  Discount\n",
      "0     Spark  22000   30days      1000\n",
      "1  Hyperion  27000   60days      2000\n",
      "2   PySpark  25000   50days      2300\n",
      "3    Hadoop  23000   35days      1000\n",
      "4    Python  24000   40days      1200\n",
      "5    Pandas  26000   55days      2500\n",
      "6  Hyperion  27000   60days      2000\n"
     ]
    },
    {
     "name": "stderr",
     "output_type": "stream",
     "text": [
      "C:\\Users\\Lenovo\\AppData\\Local\\Temp\\ipykernel_1800\\2646350135.py:9: SettingWithCopyWarning: \n",
      "A value is trying to be set on a copy of a slice from a DataFrame\n",
      "\n",
      "See the caveats in the documentation: https://pandas.pydata.org/pandas-docs/stable/user_guide/indexing.html#returning-a-view-versus-a-copy\n",
      "  df1.loc[len(df1)] = list\n"
     ]
    }
   ],
   "source": [
    "print(df)\n",
    "print(\"-------------------------------\")\n",
    "df1 = df[:1]\n",
    "\n",
    "df2 = df[1:]\n",
    "\n",
    "list = [\"Hyperion\", 27000, \"60days\", 2000]\n",
    "\n",
    "df1.loc[len(df1)] = list\n",
    "\n",
    "df = pd.concat([df1, df2] , ignore_index=True)\n",
    "\n",
    "print(df)\n"
   ]
  },
  {
   "cell_type": "markdown",
   "metadata": {},
   "source": [
    "### Deleting row From DataFrame"
   ]
  },
  {
   "cell_type": "code",
   "execution_count": 121,
   "metadata": {},
   "outputs": [
    {
     "name": "stdout",
     "output_type": "stream",
     "text": [
      "    Courses    Fee Duration  Discount\n",
      "r1    Spark  20000    30day      1000\n",
      "r2  PySpark  25000   40days      2300\n",
      "r3   Hadoop  26000      NaN      1500\n",
      "r4   Python  22000     None      1200\n"
     ]
    }
   ],
   "source": [
    "technologies = {\n",
    "'Courses':[\"Spark\",\"PySpark\",\"Hadoop\",\"Python\"],\n",
    "'Fee' :[20000,25000,26000,22000],\n",
    "'Duration':['30day','40days',np.nan, None],\n",
    "'Discount':[1000,2300,1500,1200]\n",
    "}\n",
    "indexes=['r1','r2','r3','r4']\n",
    "df = pd.DataFrame(technologies,index=indexes)\n",
    "print(df)"
   ]
  },
  {
   "cell_type": "markdown",
   "metadata": {},
   "source": [
    "#### Example 16"
   ]
  },
  {
   "cell_type": "code",
   "execution_count": 124,
   "metadata": {},
   "outputs": [
    {
     "name": "stdout",
     "output_type": "stream",
     "text": [
      "   Courses    Fee Duration  Discount\n",
      "r3  Hadoop  26000      NaN      1500\n",
      "r4  Python  22000     None      1200\n",
      "-------------------------------\n",
      "   Courses    Fee Duration  Discount\n",
      "r3  Hadoop  26000      NaN      1500\n",
      "r4  Python  22000     None      1200\n"
     ]
    }
   ],
   "source": [
    "# Drop rows by Index Label\n",
    "df1 = df.drop(['r1','r2'])\n",
    "print(df1)\n",
    "print(\"-------------------------------\")\n",
    "df1 = df.drop(index=['r1','r2'])\n",
    "print(df1)"
   ]
  },
  {
   "cell_type": "markdown",
   "metadata": {},
   "source": [
    "#### Example 17"
   ]
  },
  {
   "cell_type": "code",
   "execution_count": 125,
   "metadata": {},
   "outputs": [
    {
     "name": "stdout",
     "output_type": "stream",
     "text": [
      "   Courses    Fee Duration  Discount\n",
      "r1   Spark  20000    30day      1000\n",
      "r3  Hadoop  26000      NaN      1500\n",
      "-------------------------------\n",
      "    Courses    Fee Duration  Discount\n",
      "r2  PySpark  25000   40days      2300\n",
      "r3   Hadoop  26000      NaN      1500\n",
      "r4   Python  22000     None      1200\n",
      "-------------------------------\n",
      "    Courses    Fee Duration  Discount\n",
      "r1    Spark  20000    30day      1000\n",
      "r2  PySpark  25000   40days      2300\n",
      "r3   Hadoop  26000      NaN      1500\n",
      "-------------------------------\n",
      "    Courses    Fee Duration  Discount\n",
      "r1    Spark  20000    30day      1000\n",
      "r2  PySpark  25000   40days      2300\n"
     ]
    }
   ],
   "source": [
    "# Delete Rows 1 and 3 by Index numbers\n",
    "df1=df.drop(df.index[[1,3]])\n",
    "print(df1)\n",
    "\n",
    "print(\"-------------------------------\")\n",
    "\n",
    "# Removes First Row\n",
    "df1=df.drop(df.index[0])\n",
    "print(df1)\n",
    "print(\"-------------------------------\")\n",
    "\n",
    "# Removes Last Row\n",
    "df1=df.drop(df.index[-1])\n",
    "print(df1)\n",
    "print(\"-------------------------------\")\n",
    "# Delete Rows by Index Range\n",
    "df1=df.drop(df.index[2:])\n",
    "print(df1)"
   ]
  },
  {
   "cell_type": "markdown",
   "metadata": {},
   "source": [
    "#### Example 18"
   ]
  },
  {
   "cell_type": "code",
   "execution_count": 127,
   "metadata": {},
   "outputs": [
    {
     "name": "stdout",
     "output_type": "stream",
     "text": [
      "   Courses    Fee Duration  Discount\n",
      "0    Spark  20000    30day      1000\n",
      "1  PySpark  25000   40days      2300\n",
      "2   Hadoop  26000      NaN      1500\n",
      "3   Python  22000     None      1200\n",
      "-------------------------------\n",
      "   Courses    Fee Duration  Discount\n",
      "1  PySpark  25000   40days      2300\n",
      "2   Hadoop  26000      NaN      1500\n",
      "3   Python  22000     None      1200\n",
      "-------------------------------\n",
      "   Courses    Fee Duration  Discount\n",
      "1  PySpark  25000   40days      2300\n",
      "2   Hadoop  26000      NaN      1500\n",
      "-------------------------------\n",
      "  Courses    Fee Duration  Discount\n",
      "2  Hadoop  26000      NaN      1500\n",
      "3  Python  22000     None      1200\n",
      "-------------------------------\n"
     ]
    }
   ],
   "source": [
    "# Remove rows when you have a default index.\n",
    "df = pd.DataFrame(technologies)\n",
    "print(df)\n",
    "print(\"-------------------------------\")\n",
    "df1 = df.drop(0)\n",
    "print(df1)\n",
    "print(\"-------------------------------\")\n",
    "df3 = df.drop([0, 3])\n",
    "print(df3)\n",
    "print(\"-------------------------------\")\n",
    "df4 = df.drop(range(0,2))\n",
    "print(df4)\n",
    "print(\"-------------------------------\")"
   ]
  },
  {
   "cell_type": "markdown",
   "metadata": {},
   "source": [
    "#### Example 19"
   ]
  }
 ],
 "metadata": {
  "kernelspec": {
   "display_name": "Python 3",
   "language": "python",
   "name": "python3"
  },
  "language_info": {
   "codemirror_mode": {
    "name": "ipython",
    "version": 3
   },
   "file_extension": ".py",
   "mimetype": "text/x-python",
   "name": "python",
   "nbconvert_exporter": "python",
   "pygments_lexer": "ipython3",
   "version": "3.12.2"
  }
 },
 "nbformat": 4,
 "nbformat_minor": 2
}
