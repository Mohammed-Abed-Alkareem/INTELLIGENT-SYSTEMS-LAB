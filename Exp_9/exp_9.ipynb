{
 "cells": [
  {
   "cell_type": "markdown",
   "metadata": {},
   "source": [
    "# Experiment #9:  Introduction to Natural Language Processing\n",
    "<b>Mohammed Abed Alkareem</b>\n",
    "<b>1210708</b>"
   ]
  },
  {
   "cell_type": "code",
   "execution_count": 1,
   "metadata": {},
   "outputs": [],
   "source": [
    "# !pip install -U datasets transformers[torch] evaluate"
   ]
  },
  {
   "cell_type": "code",
   "execution_count": 2,
   "metadata": {},
   "outputs": [],
   "source": [
    "from datasets import load_dataset\n",
    "\n",
    "dataset = load_dataset('MrbBakh/Sentiment140')"
   ]
  },
  {
   "cell_type": "code",
   "execution_count": 3,
   "metadata": {},
   "outputs": [
    {
     "data": {
      "text/plain": [
       "datasets.dataset_dict.DatasetDict"
      ]
     },
     "execution_count": 3,
     "metadata": {},
     "output_type": "execute_result"
    }
   ],
   "source": [
    "type(dataset)"
   ]
  },
  {
   "cell_type": "code",
   "execution_count": 4,
   "metadata": {},
   "outputs": [
    {
     "name": "stdout",
     "output_type": "stream",
     "text": [
      "--------------------------------------------------\n",
      "{'text': \"Went to the park with my BFF. Wanted to get abducted by werewolves. Didn't happen. \", 'date': 'Sat Jun 06 20:15:20 PDT 2009', 'user': 'MelissaRM19', 'sentiment': 0, 'query': 'NO_QUERY', '__index_level_0__': 28821}\n",
      "--------------------------------------------------\n",
      "{'text': '@zorocaster been a while since i had the charsiew there  its damn good', 'date': 'Wed Jun 24 22:49:35 PDT 2009', 'user': 'icednyior', 'sentiment': 0, 'query': 'NO_QUERY', '__index_level_0__': 7704}\n",
      "--------------------------------------------------\n",
      "{'text': '@stephjonesmusic YEs  lol', 'date': 'Fri May 29 21:13:32 PDT 2009', 'user': 'summerglow', 'sentiment': 1, 'query': 'NO_QUERY', '__index_level_0__': 994}\n",
      "--------------------------------------------------\n",
      "{'text': 'Hello everyone  Good Morning . . . . why is mascara so difficult to get off???', 'date': 'Sat May 30 21:07:21 PDT 2009', 'user': 'MissStapo', 'sentiment': 1, 'query': 'NO_QUERY', '__index_level_0__': 9653}\n",
      "--------------------------------------------------\n",
      "{'text': 'sooo, last night was fun. waking up for math wasnt  haha u reap what u sew!', 'date': 'Sat May 02 12:41:51 PDT 2009', 'user': 'VeronicaLovesIT', 'sentiment': 0, 'query': 'NO_QUERY', '__index_level_0__': 8365}\n",
      "--------------------------------------------------\n",
      "{'text': '@glenzgolfmmbr now that is deep, and yes I have had a hole in one..very insightful. Thanks  I appreciate the sincerity of that statement.', 'date': 'Sat Apr 18 21:22:13 PDT 2009', 'user': 'GolfTurtle', 'sentiment': 1, 'query': 'NO_QUERY', '__index_level_0__': 6706}\n",
      "--------------------------------------------------\n",
      "{'text': \"I can't believe Jon and Kate filed for divorce \", 'date': 'Mon Jun 22 18:56:08 PDT 2009', 'user': 'RachD123', 'sentiment': 0, 'query': 'NO_QUERY', '__index_level_0__': 42047}\n",
      "--------------------------------------------------\n",
      "{'text': '@RobertaMarquez Hey Im watching the news LA is packed with people I hope your not crusin down Whittier..is so we will see you on the news ', 'date': 'Sun Jun 14 23:01:44 PDT 2009', 'user': 'JesusBFF', 'sentiment': 1, 'query': 'NO_QUERY', '__index_level_0__': 21463}\n",
      "--------------------------------------------------\n",
      "{'text': 'i forgot to buy a dvd for my friend record the second season of Kyle XY for me  @camilaaq', 'date': 'Wed Jun 17 18:31:38 PDT 2009', 'user': 'paulamneves', 'sentiment': 0, 'query': 'NO_QUERY', '__index_level_0__': 49351}\n",
      "--------------------------------------------------\n",
      "{'text': \" sorry my twats are all complaints. But i don't want to go to the ER. \", 'date': 'Mon Jun 22 14:07:17 PDT 2009', 'user': 'nequoyah', 'sentiment': 0, 'query': 'NO_QUERY', '__index_level_0__': 42145}\n",
      "\n",
      "\n",
      " {'text': Value(dtype='string', id=None), 'date': Value(dtype='string', id=None), 'user': Value(dtype='string', id=None), 'sentiment': Value(dtype='int64', id=None), 'query': Value(dtype='string', id=None), '__index_level_0__': Value(dtype='int64', id=None)}\n"
     ]
    }
   ],
   "source": [
    "for i in range(10):\n",
    "    print(\"-\" * 50)\n",
    "    print(dataset['train'][i])\n",
    "\n",
    "print(\"\\n\\n\",dataset['test'].features)\n"
   ]
  },
  {
   "cell_type": "markdown",
   "metadata": {},
   "source": [
    "## 1.2.1  Text Pre-processing"
   ]
  },
  {
   "cell_type": "code",
   "execution_count": 5,
   "metadata": {},
   "outputs": [],
   "source": [
    "# !pip install nltk"
   ]
  },
  {
   "cell_type": "markdown",
   "metadata": {},
   "source": [
    "### tokenizing the text"
   ]
  },
  {
   "cell_type": "code",
   "execution_count": 6,
   "metadata": {},
   "outputs": [
    {
     "name": "stderr",
     "output_type": "stream",
     "text": [
      "[nltk_data] Downloading package punkt to\n",
      "[nltk_data]     C:\\Users\\Lenovo\\AppData\\Roaming\\nltk_data...\n",
      "[nltk_data]   Package punkt is already up-to-date!\n"
     ]
    }
   ],
   "source": [
    "import nltk\n",
    "from nltk.tokenize import word_tokenize\n",
    "nltk.download('punkt')\n",
    "\n",
    "def tokenize(row):\n",
    "    tokens = word_tokenize(row['text'])\n",
    "    # to lowercase and remove punctuation\n",
    "    tokens = [token.lower() for token in tokens if token.isalpha()]\n",
    "    return {'tokens': tokens}\n",
    "\n",
    "dataset = dataset.map(tokenize)\n"
   ]
  },
  {
   "cell_type": "code",
   "execution_count": 7,
   "metadata": {},
   "outputs": [
    {
     "name": "stdout",
     "output_type": "stream",
     "text": [
      "--------------------------------------------------\n",
      "['went', 'to', 'the', 'park', 'with', 'my', 'bff', 'wanted', 'to', 'get', 'abducted', 'by', 'werewolves', 'did', 'happen']\n",
      "--------------------------------------------------\n",
      "['zorocaster', 'been', 'a', 'while', 'since', 'i', 'had', 'the', 'charsiew', 'there', 'its', 'damn', 'good']\n",
      "--------------------------------------------------\n",
      "['stephjonesmusic', 'yes', 'lol']\n",
      "--------------------------------------------------\n",
      "['hello', 'everyone', 'good', 'morning', 'why', 'is', 'mascara', 'so', 'difficult', 'to', 'get', 'off']\n",
      "--------------------------------------------------\n",
      "['sooo', 'last', 'night', 'was', 'fun', 'waking', 'up', 'for', 'math', 'wasnt', 'haha', 'u', 'reap', 'what', 'u', 'sew']\n",
      "--------------------------------------------------\n",
      "['glenzgolfmmbr', 'now', 'that', 'is', 'deep', 'and', 'yes', 'i', 'have', 'had', 'a', 'hole', 'in', 'one', 'very', 'insightful', 'thanks', 'i', 'appreciate', 'the', 'sincerity', 'of', 'that', 'statement']\n",
      "--------------------------------------------------\n",
      "['i', 'ca', 'believe', 'jon', 'and', 'kate', 'filed', 'for', 'divorce']\n",
      "--------------------------------------------------\n",
      "['robertamarquez', 'hey', 'im', 'watching', 'the', 'news', 'la', 'is', 'packed', 'with', 'people', 'i', 'hope', 'your', 'not', 'crusin', 'down', 'whittier', 'is', 'so', 'we', 'will', 'see', 'you', 'on', 'the', 'news']\n",
      "--------------------------------------------------\n",
      "['i', 'forgot', 'to', 'buy', 'a', 'dvd', 'for', 'my', 'friend', 'record', 'the', 'second', 'season', 'of', 'kyle', 'xy', 'for', 'me', 'camilaaq']\n",
      "--------------------------------------------------\n",
      "['sorry', 'my', 'twats', 'are', 'all', 'complaints', 'but', 'i', 'do', 'want', 'to', 'go', 'to', 'the', 'er']\n"
     ]
    }
   ],
   "source": [
    "for i in range(10):\n",
    "    print(\"-\" * 50)\n",
    "    print(dataset['train'][i][\"tokens\"])"
   ]
  },
  {
   "cell_type": "markdown",
   "metadata": {},
   "source": [
    "### remove stop words"
   ]
  },
  {
   "cell_type": "code",
   "execution_count": 8,
   "metadata": {},
   "outputs": [
    {
     "name": "stderr",
     "output_type": "stream",
     "text": [
      "[nltk_data] Downloading package stopwords to\n",
      "[nltk_data]     C:\\Users\\Lenovo\\AppData\\Roaming\\nltk_data...\n",
      "[nltk_data]   Package stopwords is already up-to-date!\n"
     ]
    },
    {
     "data": {
      "application/vnd.jupyter.widget-view+json": {
       "model_id": "15714f97f3d4435d89e08689a0fe8738",
       "version_major": 2,
       "version_minor": 0
      },
      "text/plain": [
       "Map:   0%|          | 0/5000 [00:00<?, ? examples/s]"
      ]
     },
     "metadata": {},
     "output_type": "display_data"
    }
   ],
   "source": [
    "from nltk.corpus import stopwords\n",
    "nltk.download('stopwords')\n",
    "\n",
    "def remove_stopwords(row):\n",
    "    stop_words = set(stopwords.words('english'))\n",
    "    tokens = [token for token in row['tokens'] if token not in stop_words]\n",
    "    return {'tokens': tokens}\n",
    "\n",
    "dataset = dataset.map(remove_stopwords)"
   ]
  },
  {
   "cell_type": "code",
   "execution_count": 9,
   "metadata": {},
   "outputs": [
    {
     "name": "stdout",
     "output_type": "stream",
     "text": [
      "--------------------------------------------------\n",
      "['went', 'park', 'bff', 'wanted', 'get', 'abducted', 'werewolves', 'happen']\n",
      "--------------------------------------------------\n",
      "['zorocaster', 'since', 'charsiew', 'damn', 'good']\n",
      "--------------------------------------------------\n",
      "['stephjonesmusic', 'yes', 'lol']\n",
      "--------------------------------------------------\n",
      "['hello', 'everyone', 'good', 'morning', 'mascara', 'difficult', 'get']\n",
      "--------------------------------------------------\n",
      "['sooo', 'last', 'night', 'fun', 'waking', 'math', 'wasnt', 'haha', 'u', 'reap', 'u', 'sew']\n",
      "--------------------------------------------------\n",
      "['glenzgolfmmbr', 'deep', 'yes', 'hole', 'one', 'insightful', 'thanks', 'appreciate', 'sincerity', 'statement']\n",
      "--------------------------------------------------\n",
      "['ca', 'believe', 'jon', 'kate', 'filed', 'divorce']\n",
      "--------------------------------------------------\n",
      "['robertamarquez', 'hey', 'im', 'watching', 'news', 'la', 'packed', 'people', 'hope', 'crusin', 'whittier', 'see', 'news']\n",
      "--------------------------------------------------\n",
      "['forgot', 'buy', 'dvd', 'friend', 'record', 'second', 'season', 'kyle', 'xy', 'camilaaq']\n",
      "--------------------------------------------------\n",
      "['sorry', 'twats', 'complaints', 'want', 'go', 'er']\n"
     ]
    }
   ],
   "source": [
    "for i in range(10):\n",
    "    print(\"-\" * 50)\n",
    "    print(dataset['train'][i][\"tokens\"])"
   ]
  },
  {
   "cell_type": "markdown",
   "metadata": {},
   "source": [
    "### Task 1:  \n",
    "UsePorterStemmerfrom NLTK to stem the tokens."
   ]
  },
  {
   "cell_type": "code",
   "execution_count": 10,
   "metadata": {},
   "outputs": [
    {
     "data": {
      "application/vnd.jupyter.widget-view+json": {
       "model_id": "6ddeb446265844ecb3ac0e6dbb7ce814",
       "version_major": 2,
       "version_minor": 0
      },
      "text/plain": [
       "Map:   0%|          | 0/40000 [00:00<?, ? examples/s]"
      ]
     },
     "metadata": {},
     "output_type": "display_data"
    },
    {
     "data": {
      "application/vnd.jupyter.widget-view+json": {
       "model_id": "115487f9bae04e77bbfff6fb6c32936a",
       "version_major": 2,
       "version_minor": 0
      },
      "text/plain": [
       "Map:   0%|          | 0/5000 [00:00<?, ? examples/s]"
      ]
     },
     "metadata": {},
     "output_type": "display_data"
    },
    {
     "data": {
      "application/vnd.jupyter.widget-view+json": {
       "model_id": "20d57ceb62c045bba74a3b9d1d95c4c7",
       "version_major": 2,
       "version_minor": 0
      },
      "text/plain": [
       "Map:   0%|          | 0/5000 [00:00<?, ? examples/s]"
      ]
     },
     "metadata": {},
     "output_type": "display_data"
    }
   ],
   "source": [
    "def stem (row): # to the root form\n",
    "    stemmer = nltk.PorterStemmer()\n",
    "    tokens = [stemmer.stem(token) for token in row['tokens']]\n",
    "    return {'tokens': tokens}\n",
    "\n",
    "dataset = dataset.map(stem)\n"
   ]
  },
  {
   "cell_type": "code",
   "execution_count": 11,
   "metadata": {},
   "outputs": [
    {
     "name": "stdout",
     "output_type": "stream",
     "text": [
      "--------------------------------------------------\n",
      "['went', 'park', 'bff', 'want', 'get', 'abduct', 'werewolv', 'happen']\n",
      "--------------------------------------------------\n",
      "['zorocast', 'sinc', 'charsiew', 'damn', 'good']\n",
      "--------------------------------------------------\n",
      "['stephjonesmus', 'ye', 'lol']\n",
      "--------------------------------------------------\n",
      "['hello', 'everyon', 'good', 'morn', 'mascara', 'difficult', 'get']\n",
      "--------------------------------------------------\n",
      "['sooo', 'last', 'night', 'fun', 'wake', 'math', 'wasnt', 'haha', 'u', 'reap', 'u', 'sew']\n",
      "--------------------------------------------------\n",
      "['glenzgolfmmbr', 'deep', 'ye', 'hole', 'one', 'insight', 'thank', 'appreci', 'sincer', 'statement']\n",
      "--------------------------------------------------\n",
      "['ca', 'believ', 'jon', 'kate', 'file', 'divorc']\n",
      "--------------------------------------------------\n",
      "['robertamarquez', 'hey', 'im', 'watch', 'news', 'la', 'pack', 'peopl', 'hope', 'crusin', 'whittier', 'see', 'news']\n",
      "--------------------------------------------------\n",
      "['forgot', 'buy', 'dvd', 'friend', 'record', 'second', 'season', 'kyle', 'xy', 'camilaaq']\n",
      "--------------------------------------------------\n",
      "['sorri', 'twat', 'complaint', 'want', 'go', 'er']\n"
     ]
    }
   ],
   "source": [
    "for i in range(10):\n",
    "    print(\"-\" * 50)\n",
    "    print(dataset['train'][i][\"tokens\"])"
   ]
  },
  {
   "cell_type": "markdown",
   "metadata": {},
   "source": [
    "## 1.2.2  Word Embedding"
   ]
  },
  {
   "cell_type": "code",
   "execution_count": 12,
   "metadata": {},
   "outputs": [],
   "source": [
    "# !pip install gensim"
   ]
  },
  {
   "cell_type": "code",
   "execution_count": 13,
   "metadata": {},
   "outputs": [],
   "source": [
    "from gensim.models import Word2Vec \n",
    "\n",
    "word_embedding = Word2Vec(dataset['train']['tokens'],\n",
    "                           vector_size=100,\n",
    "                           min_count=1,\n",
    "                             window=5,\n",
    "                               sg=1,\n",
    "                                 hs=0,\n",
    "                                   negative=10)"
   ]
  },
  {
   "cell_type": "code",
   "execution_count": 14,
   "metadata": {},
   "outputs": [],
   "source": [
    "#save the model\n",
    "word_embedding.save('w2v.model')\n",
    "\n",
    "#load the model\n",
    "word_embedding = Word2Vec.load('w2v.model')"
   ]
  },
  {
   "cell_type": "markdown",
   "metadata": {},
   "source": [
    "## 1.2.3  Average Vector"
   ]
  },
  {
   "cell_type": "code",
   "execution_count": 15,
   "metadata": {},
   "outputs": [
    {
     "data": {
      "application/vnd.jupyter.widget-view+json": {
       "model_id": "5bf2fb01490744e9bb43794abd31675c",
       "version_major": 2,
       "version_minor": 0
      },
      "text/plain": [
       "Map:   0%|          | 0/40000 [00:00<?, ? examples/s]"
      ]
     },
     "metadata": {},
     "output_type": "display_data"
    },
    {
     "data": {
      "application/vnd.jupyter.widget-view+json": {
       "model_id": "020ecd9015a74647b6e287c79def246f",
       "version_major": 2,
       "version_minor": 0
      },
      "text/plain": [
       "Map:   0%|          | 0/5000 [00:00<?, ? examples/s]"
      ]
     },
     "metadata": {},
     "output_type": "display_data"
    },
    {
     "data": {
      "application/vnd.jupyter.widget-view+json": {
       "model_id": "0400988cb93b4890a5e320b3b370d20e",
       "version_major": 2,
       "version_minor": 0
      },
      "text/plain": [
       "Map:   0%|          | 0/5000 [00:00<?, ? examples/s]"
      ]
     },
     "metadata": {},
     "output_type": "display_data"
    },
    {
     "data": {
      "application/vnd.jupyter.widget-view+json": {
       "model_id": "3f4635f3f16f4916b45c7e8f68a9b538",
       "version_major": 2,
       "version_minor": 0
      },
      "text/plain": [
       "Filter:   0%|          | 0/40000 [00:00<?, ? examples/s]"
      ]
     },
     "metadata": {},
     "output_type": "display_data"
    },
    {
     "data": {
      "application/vnd.jupyter.widget-view+json": {
       "model_id": "cf1dcf9a668c4e6ead3165d3f63326b5",
       "version_major": 2,
       "version_minor": 0
      },
      "text/plain": [
       "Filter:   0%|          | 0/5000 [00:00<?, ? examples/s]"
      ]
     },
     "metadata": {},
     "output_type": "display_data"
    },
    {
     "data": {
      "application/vnd.jupyter.widget-view+json": {
       "model_id": "4510e41927c947aa9c24bd16c5deb990",
       "version_major": 2,
       "version_minor": 0
      },
      "text/plain": [
       "Filter:   0%|          | 0/5000 [00:00<?, ? examples/s]"
      ]
     },
     "metadata": {},
     "output_type": "display_data"
    },
    {
     "data": {
      "application/vnd.jupyter.widget-view+json": {
       "model_id": "d1f43d93ec3347ebb3d325666b5bd329",
       "version_major": 2,
       "version_minor": 0
      },
      "text/plain": [
       "Map:   0%|          | 0/39924 [00:00<?, ? examples/s]"
      ]
     },
     "metadata": {},
     "output_type": "display_data"
    },
    {
     "data": {
      "application/vnd.jupyter.widget-view+json": {
       "model_id": "0f95c3c15705475c9f3089d9fafc791b",
       "version_major": 2,
       "version_minor": 0
      },
      "text/plain": [
       "Map:   0%|          | 0/4963 [00:00<?, ? examples/s]"
      ]
     },
     "metadata": {},
     "output_type": "display_data"
    },
    {
     "data": {
      "application/vnd.jupyter.widget-view+json": {
       "model_id": "8b6e9df0ee8145e7b9a9ce81e069d216",
       "version_major": 2,
       "version_minor": 0
      },
      "text/plain": [
       "Map:   0%|          | 0/4966 [00:00<?, ? examples/s]"
      ]
     },
     "metadata": {},
     "output_type": "display_data"
    }
   ],
   "source": [
    "def filter_tokens(example):\n",
    "    return {\n",
    "        'tokens': [token for token in example['tokens'] if token in word_embedding.wv]\n",
    "        }\n",
    "    \n",
    "def mean_vector(example):\n",
    "    return {\n",
    "        'mean': word_embedding.wv[example['tokens']].mean(axis=0)\n",
    "    }\n",
    "\n",
    "\n",
    "dataset = dataset.map(filter_tokens)\\\n",
    "    .filter(lambda e: len(e['tokens']) > 0) \\\n",
    "    .map(mean_vector)"
   ]
  },
  {
   "cell_type": "code",
   "execution_count": 16,
   "metadata": {},
   "outputs": [
    {
     "data": {
      "text/plain": [
       "DatasetDict({\n",
       "    train: Dataset({\n",
       "        features: ['text', 'date', 'user', 'sentiment', 'query', '__index_level_0__', 'tokens', 'mean'],\n",
       "        num_rows: 39924\n",
       "    })\n",
       "    validation: Dataset({\n",
       "        features: ['text', 'date', 'user', 'sentiment', 'query', '__index_level_0__', 'tokens', 'mean'],\n",
       "        num_rows: 4963\n",
       "    })\n",
       "    test: Dataset({\n",
       "        features: ['text', 'date', 'user', 'sentiment', 'query', '__index_level_0__', 'tokens', 'mean'],\n",
       "        num_rows: 4966\n",
       "    })\n",
       "})"
      ]
     },
     "execution_count": 16,
     "metadata": {},
     "output_type": "execute_result"
    }
   ],
   "source": [
    "dataset"
   ]
  },
  {
   "cell_type": "markdown",
   "metadata": {},
   "source": [
    "### Train the Naive Bayes classifier"
   ]
  },
  {
   "cell_type": "code",
   "execution_count": 17,
   "metadata": {},
   "outputs": [
    {
     "data": {
      "text/html": [
       "<style>#sk-container-id-1 {\n",
       "  /* Definition of color scheme common for light and dark mode */\n",
       "  --sklearn-color-text: black;\n",
       "  --sklearn-color-line: gray;\n",
       "  /* Definition of color scheme for unfitted estimators */\n",
       "  --sklearn-color-unfitted-level-0: #fff5e6;\n",
       "  --sklearn-color-unfitted-level-1: #f6e4d2;\n",
       "  --sklearn-color-unfitted-level-2: #ffe0b3;\n",
       "  --sklearn-color-unfitted-level-3: chocolate;\n",
       "  /* Definition of color scheme for fitted estimators */\n",
       "  --sklearn-color-fitted-level-0: #f0f8ff;\n",
       "  --sklearn-color-fitted-level-1: #d4ebff;\n",
       "  --sklearn-color-fitted-level-2: #b3dbfd;\n",
       "  --sklearn-color-fitted-level-3: cornflowerblue;\n",
       "\n",
       "  /* Specific color for light theme */\n",
       "  --sklearn-color-text-on-default-background: var(--sg-text-color, var(--theme-code-foreground, var(--jp-content-font-color1, black)));\n",
       "  --sklearn-color-background: var(--sg-background-color, var(--theme-background, var(--jp-layout-color0, white)));\n",
       "  --sklearn-color-border-box: var(--sg-text-color, var(--theme-code-foreground, var(--jp-content-font-color1, black)));\n",
       "  --sklearn-color-icon: #696969;\n",
       "\n",
       "  @media (prefers-color-scheme: dark) {\n",
       "    /* Redefinition of color scheme for dark theme */\n",
       "    --sklearn-color-text-on-default-background: var(--sg-text-color, var(--theme-code-foreground, var(--jp-content-font-color1, white)));\n",
       "    --sklearn-color-background: var(--sg-background-color, var(--theme-background, var(--jp-layout-color0, #111)));\n",
       "    --sklearn-color-border-box: var(--sg-text-color, var(--theme-code-foreground, var(--jp-content-font-color1, white)));\n",
       "    --sklearn-color-icon: #878787;\n",
       "  }\n",
       "}\n",
       "\n",
       "#sk-container-id-1 {\n",
       "  color: var(--sklearn-color-text);\n",
       "}\n",
       "\n",
       "#sk-container-id-1 pre {\n",
       "  padding: 0;\n",
       "}\n",
       "\n",
       "#sk-container-id-1 input.sk-hidden--visually {\n",
       "  border: 0;\n",
       "  clip: rect(1px 1px 1px 1px);\n",
       "  clip: rect(1px, 1px, 1px, 1px);\n",
       "  height: 1px;\n",
       "  margin: -1px;\n",
       "  overflow: hidden;\n",
       "  padding: 0;\n",
       "  position: absolute;\n",
       "  width: 1px;\n",
       "}\n",
       "\n",
       "#sk-container-id-1 div.sk-dashed-wrapped {\n",
       "  border: 1px dashed var(--sklearn-color-line);\n",
       "  margin: 0 0.4em 0.5em 0.4em;\n",
       "  box-sizing: border-box;\n",
       "  padding-bottom: 0.4em;\n",
       "  background-color: var(--sklearn-color-background);\n",
       "}\n",
       "\n",
       "#sk-container-id-1 div.sk-container {\n",
       "  /* jupyter's `normalize.less` sets `[hidden] { display: none; }`\n",
       "     but bootstrap.min.css set `[hidden] { display: none !important; }`\n",
       "     so we also need the `!important` here to be able to override the\n",
       "     default hidden behavior on the sphinx rendered scikit-learn.org.\n",
       "     See: https://github.com/scikit-learn/scikit-learn/issues/21755 */\n",
       "  display: inline-block !important;\n",
       "  position: relative;\n",
       "}\n",
       "\n",
       "#sk-container-id-1 div.sk-text-repr-fallback {\n",
       "  display: none;\n",
       "}\n",
       "\n",
       "div.sk-parallel-item,\n",
       "div.sk-serial,\n",
       "div.sk-item {\n",
       "  /* draw centered vertical line to link estimators */\n",
       "  background-image: linear-gradient(var(--sklearn-color-text-on-default-background), var(--sklearn-color-text-on-default-background));\n",
       "  background-size: 2px 100%;\n",
       "  background-repeat: no-repeat;\n",
       "  background-position: center center;\n",
       "}\n",
       "\n",
       "/* Parallel-specific style estimator block */\n",
       "\n",
       "#sk-container-id-1 div.sk-parallel-item::after {\n",
       "  content: \"\";\n",
       "  width: 100%;\n",
       "  border-bottom: 2px solid var(--sklearn-color-text-on-default-background);\n",
       "  flex-grow: 1;\n",
       "}\n",
       "\n",
       "#sk-container-id-1 div.sk-parallel {\n",
       "  display: flex;\n",
       "  align-items: stretch;\n",
       "  justify-content: center;\n",
       "  background-color: var(--sklearn-color-background);\n",
       "  position: relative;\n",
       "}\n",
       "\n",
       "#sk-container-id-1 div.sk-parallel-item {\n",
       "  display: flex;\n",
       "  flex-direction: column;\n",
       "}\n",
       "\n",
       "#sk-container-id-1 div.sk-parallel-item:first-child::after {\n",
       "  align-self: flex-end;\n",
       "  width: 50%;\n",
       "}\n",
       "\n",
       "#sk-container-id-1 div.sk-parallel-item:last-child::after {\n",
       "  align-self: flex-start;\n",
       "  width: 50%;\n",
       "}\n",
       "\n",
       "#sk-container-id-1 div.sk-parallel-item:only-child::after {\n",
       "  width: 0;\n",
       "}\n",
       "\n",
       "/* Serial-specific style estimator block */\n",
       "\n",
       "#sk-container-id-1 div.sk-serial {\n",
       "  display: flex;\n",
       "  flex-direction: column;\n",
       "  align-items: center;\n",
       "  background-color: var(--sklearn-color-background);\n",
       "  padding-right: 1em;\n",
       "  padding-left: 1em;\n",
       "}\n",
       "\n",
       "\n",
       "/* Toggleable style: style used for estimator/Pipeline/ColumnTransformer box that is\n",
       "clickable and can be expanded/collapsed.\n",
       "- Pipeline and ColumnTransformer use this feature and define the default style\n",
       "- Estimators will overwrite some part of the style using the `sk-estimator` class\n",
       "*/\n",
       "\n",
       "/* Pipeline and ColumnTransformer style (default) */\n",
       "\n",
       "#sk-container-id-1 div.sk-toggleable {\n",
       "  /* Default theme specific background. It is overwritten whether we have a\n",
       "  specific estimator or a Pipeline/ColumnTransformer */\n",
       "  background-color: var(--sklearn-color-background);\n",
       "}\n",
       "\n",
       "/* Toggleable label */\n",
       "#sk-container-id-1 label.sk-toggleable__label {\n",
       "  cursor: pointer;\n",
       "  display: block;\n",
       "  width: 100%;\n",
       "  margin-bottom: 0;\n",
       "  padding: 0.5em;\n",
       "  box-sizing: border-box;\n",
       "  text-align: center;\n",
       "}\n",
       "\n",
       "#sk-container-id-1 label.sk-toggleable__label-arrow:before {\n",
       "  /* Arrow on the left of the label */\n",
       "  content: \"▸\";\n",
       "  float: left;\n",
       "  margin-right: 0.25em;\n",
       "  color: var(--sklearn-color-icon);\n",
       "}\n",
       "\n",
       "#sk-container-id-1 label.sk-toggleable__label-arrow:hover:before {\n",
       "  color: var(--sklearn-color-text);\n",
       "}\n",
       "\n",
       "/* Toggleable content - dropdown */\n",
       "\n",
       "#sk-container-id-1 div.sk-toggleable__content {\n",
       "  max-height: 0;\n",
       "  max-width: 0;\n",
       "  overflow: hidden;\n",
       "  text-align: left;\n",
       "  /* unfitted */\n",
       "  background-color: var(--sklearn-color-unfitted-level-0);\n",
       "}\n",
       "\n",
       "#sk-container-id-1 div.sk-toggleable__content.fitted {\n",
       "  /* fitted */\n",
       "  background-color: var(--sklearn-color-fitted-level-0);\n",
       "}\n",
       "\n",
       "#sk-container-id-1 div.sk-toggleable__content pre {\n",
       "  margin: 0.2em;\n",
       "  border-radius: 0.25em;\n",
       "  color: var(--sklearn-color-text);\n",
       "  /* unfitted */\n",
       "  background-color: var(--sklearn-color-unfitted-level-0);\n",
       "}\n",
       "\n",
       "#sk-container-id-1 div.sk-toggleable__content.fitted pre {\n",
       "  /* unfitted */\n",
       "  background-color: var(--sklearn-color-fitted-level-0);\n",
       "}\n",
       "\n",
       "#sk-container-id-1 input.sk-toggleable__control:checked~div.sk-toggleable__content {\n",
       "  /* Expand drop-down */\n",
       "  max-height: 200px;\n",
       "  max-width: 100%;\n",
       "  overflow: auto;\n",
       "}\n",
       "\n",
       "#sk-container-id-1 input.sk-toggleable__control:checked~label.sk-toggleable__label-arrow:before {\n",
       "  content: \"▾\";\n",
       "}\n",
       "\n",
       "/* Pipeline/ColumnTransformer-specific style */\n",
       "\n",
       "#sk-container-id-1 div.sk-label input.sk-toggleable__control:checked~label.sk-toggleable__label {\n",
       "  color: var(--sklearn-color-text);\n",
       "  background-color: var(--sklearn-color-unfitted-level-2);\n",
       "}\n",
       "\n",
       "#sk-container-id-1 div.sk-label.fitted input.sk-toggleable__control:checked~label.sk-toggleable__label {\n",
       "  background-color: var(--sklearn-color-fitted-level-2);\n",
       "}\n",
       "\n",
       "/* Estimator-specific style */\n",
       "\n",
       "/* Colorize estimator box */\n",
       "#sk-container-id-1 div.sk-estimator input.sk-toggleable__control:checked~label.sk-toggleable__label {\n",
       "  /* unfitted */\n",
       "  background-color: var(--sklearn-color-unfitted-level-2);\n",
       "}\n",
       "\n",
       "#sk-container-id-1 div.sk-estimator.fitted input.sk-toggleable__control:checked~label.sk-toggleable__label {\n",
       "  /* fitted */\n",
       "  background-color: var(--sklearn-color-fitted-level-2);\n",
       "}\n",
       "\n",
       "#sk-container-id-1 div.sk-label label.sk-toggleable__label,\n",
       "#sk-container-id-1 div.sk-label label {\n",
       "  /* The background is the default theme color */\n",
       "  color: var(--sklearn-color-text-on-default-background);\n",
       "}\n",
       "\n",
       "/* On hover, darken the color of the background */\n",
       "#sk-container-id-1 div.sk-label:hover label.sk-toggleable__label {\n",
       "  color: var(--sklearn-color-text);\n",
       "  background-color: var(--sklearn-color-unfitted-level-2);\n",
       "}\n",
       "\n",
       "/* Label box, darken color on hover, fitted */\n",
       "#sk-container-id-1 div.sk-label.fitted:hover label.sk-toggleable__label.fitted {\n",
       "  color: var(--sklearn-color-text);\n",
       "  background-color: var(--sklearn-color-fitted-level-2);\n",
       "}\n",
       "\n",
       "/* Estimator label */\n",
       "\n",
       "#sk-container-id-1 div.sk-label label {\n",
       "  font-family: monospace;\n",
       "  font-weight: bold;\n",
       "  display: inline-block;\n",
       "  line-height: 1.2em;\n",
       "}\n",
       "\n",
       "#sk-container-id-1 div.sk-label-container {\n",
       "  text-align: center;\n",
       "}\n",
       "\n",
       "/* Estimator-specific */\n",
       "#sk-container-id-1 div.sk-estimator {\n",
       "  font-family: monospace;\n",
       "  border: 1px dotted var(--sklearn-color-border-box);\n",
       "  border-radius: 0.25em;\n",
       "  box-sizing: border-box;\n",
       "  margin-bottom: 0.5em;\n",
       "  /* unfitted */\n",
       "  background-color: var(--sklearn-color-unfitted-level-0);\n",
       "}\n",
       "\n",
       "#sk-container-id-1 div.sk-estimator.fitted {\n",
       "  /* fitted */\n",
       "  background-color: var(--sklearn-color-fitted-level-0);\n",
       "}\n",
       "\n",
       "/* on hover */\n",
       "#sk-container-id-1 div.sk-estimator:hover {\n",
       "  /* unfitted */\n",
       "  background-color: var(--sklearn-color-unfitted-level-2);\n",
       "}\n",
       "\n",
       "#sk-container-id-1 div.sk-estimator.fitted:hover {\n",
       "  /* fitted */\n",
       "  background-color: var(--sklearn-color-fitted-level-2);\n",
       "}\n",
       "\n",
       "/* Specification for estimator info (e.g. \"i\" and \"?\") */\n",
       "\n",
       "/* Common style for \"i\" and \"?\" */\n",
       "\n",
       ".sk-estimator-doc-link,\n",
       "a:link.sk-estimator-doc-link,\n",
       "a:visited.sk-estimator-doc-link {\n",
       "  float: right;\n",
       "  font-size: smaller;\n",
       "  line-height: 1em;\n",
       "  font-family: monospace;\n",
       "  background-color: var(--sklearn-color-background);\n",
       "  border-radius: 1em;\n",
       "  height: 1em;\n",
       "  width: 1em;\n",
       "  text-decoration: none !important;\n",
       "  margin-left: 1ex;\n",
       "  /* unfitted */\n",
       "  border: var(--sklearn-color-unfitted-level-1) 1pt solid;\n",
       "  color: var(--sklearn-color-unfitted-level-1);\n",
       "}\n",
       "\n",
       ".sk-estimator-doc-link.fitted,\n",
       "a:link.sk-estimator-doc-link.fitted,\n",
       "a:visited.sk-estimator-doc-link.fitted {\n",
       "  /* fitted */\n",
       "  border: var(--sklearn-color-fitted-level-1) 1pt solid;\n",
       "  color: var(--sklearn-color-fitted-level-1);\n",
       "}\n",
       "\n",
       "/* On hover */\n",
       "div.sk-estimator:hover .sk-estimator-doc-link:hover,\n",
       ".sk-estimator-doc-link:hover,\n",
       "div.sk-label-container:hover .sk-estimator-doc-link:hover,\n",
       ".sk-estimator-doc-link:hover {\n",
       "  /* unfitted */\n",
       "  background-color: var(--sklearn-color-unfitted-level-3);\n",
       "  color: var(--sklearn-color-background);\n",
       "  text-decoration: none;\n",
       "}\n",
       "\n",
       "div.sk-estimator.fitted:hover .sk-estimator-doc-link.fitted:hover,\n",
       ".sk-estimator-doc-link.fitted:hover,\n",
       "div.sk-label-container:hover .sk-estimator-doc-link.fitted:hover,\n",
       ".sk-estimator-doc-link.fitted:hover {\n",
       "  /* fitted */\n",
       "  background-color: var(--sklearn-color-fitted-level-3);\n",
       "  color: var(--sklearn-color-background);\n",
       "  text-decoration: none;\n",
       "}\n",
       "\n",
       "/* Span, style for the box shown on hovering the info icon */\n",
       ".sk-estimator-doc-link span {\n",
       "  display: none;\n",
       "  z-index: 9999;\n",
       "  position: relative;\n",
       "  font-weight: normal;\n",
       "  right: .2ex;\n",
       "  padding: .5ex;\n",
       "  margin: .5ex;\n",
       "  width: min-content;\n",
       "  min-width: 20ex;\n",
       "  max-width: 50ex;\n",
       "  color: var(--sklearn-color-text);\n",
       "  box-shadow: 2pt 2pt 4pt #999;\n",
       "  /* unfitted */\n",
       "  background: var(--sklearn-color-unfitted-level-0);\n",
       "  border: .5pt solid var(--sklearn-color-unfitted-level-3);\n",
       "}\n",
       "\n",
       ".sk-estimator-doc-link.fitted span {\n",
       "  /* fitted */\n",
       "  background: var(--sklearn-color-fitted-level-0);\n",
       "  border: var(--sklearn-color-fitted-level-3);\n",
       "}\n",
       "\n",
       ".sk-estimator-doc-link:hover span {\n",
       "  display: block;\n",
       "}\n",
       "\n",
       "/* \"?\"-specific style due to the `<a>` HTML tag */\n",
       "\n",
       "#sk-container-id-1 a.estimator_doc_link {\n",
       "  float: right;\n",
       "  font-size: 1rem;\n",
       "  line-height: 1em;\n",
       "  font-family: monospace;\n",
       "  background-color: var(--sklearn-color-background);\n",
       "  border-radius: 1rem;\n",
       "  height: 1rem;\n",
       "  width: 1rem;\n",
       "  text-decoration: none;\n",
       "  /* unfitted */\n",
       "  color: var(--sklearn-color-unfitted-level-1);\n",
       "  border: var(--sklearn-color-unfitted-level-1) 1pt solid;\n",
       "}\n",
       "\n",
       "#sk-container-id-1 a.estimator_doc_link.fitted {\n",
       "  /* fitted */\n",
       "  border: var(--sklearn-color-fitted-level-1) 1pt solid;\n",
       "  color: var(--sklearn-color-fitted-level-1);\n",
       "}\n",
       "\n",
       "/* On hover */\n",
       "#sk-container-id-1 a.estimator_doc_link:hover {\n",
       "  /* unfitted */\n",
       "  background-color: var(--sklearn-color-unfitted-level-3);\n",
       "  color: var(--sklearn-color-background);\n",
       "  text-decoration: none;\n",
       "}\n",
       "\n",
       "#sk-container-id-1 a.estimator_doc_link.fitted:hover {\n",
       "  /* fitted */\n",
       "  background-color: var(--sklearn-color-fitted-level-3);\n",
       "}\n",
       "</style><div id=\"sk-container-id-1\" class=\"sk-top-container\"><div class=\"sk-text-repr-fallback\"><pre>GaussianNB()</pre><b>In a Jupyter environment, please rerun this cell to show the HTML representation or trust the notebook. <br />On GitHub, the HTML representation is unable to render, please try loading this page with nbviewer.org.</b></div><div class=\"sk-container\" hidden><div class=\"sk-item\"><div class=\"sk-estimator fitted sk-toggleable\"><input class=\"sk-toggleable__control sk-hidden--visually\" id=\"sk-estimator-id-1\" type=\"checkbox\" checked><label for=\"sk-estimator-id-1\" class=\"sk-toggleable__label fitted sk-toggleable__label-arrow fitted\">&nbsp;&nbsp;GaussianNB<a class=\"sk-estimator-doc-link fitted\" rel=\"noreferrer\" target=\"_blank\" href=\"https://scikit-learn.org/1.5/modules/generated/sklearn.naive_bayes.GaussianNB.html\">?<span>Documentation for GaussianNB</span></a><span class=\"sk-estimator-doc-link fitted\">i<span>Fitted</span></span></label><div class=\"sk-toggleable__content fitted\"><pre>GaussianNB()</pre></div> </div></div></div></div>"
      ],
      "text/plain": [
       "GaussianNB()"
      ]
     },
     "execution_count": 17,
     "metadata": {},
     "output_type": "execute_result"
    }
   ],
   "source": [
    "import numpy as np\n",
    "from sklearn.naive_bayes import GaussianNB\n",
    "\n",
    "X = np.array(dataset['train']['mean'])\n",
    "y = np.array(dataset['train']['sentiment'])\n",
    "clf = GaussianNB()\n",
    "clf.fit(X, y)"
   ]
  },
  {
   "cell_type": "markdown",
   "metadata": {},
   "source": [
    "#### Task 2:  \n",
    "Compute the accuracy and the confusion matrix of the trained classifier onthe test dataset."
   ]
  },
  {
   "cell_type": "code",
   "execution_count": 18,
   "metadata": {},
   "outputs": [
    {
     "name": "stdout",
     "output_type": "stream",
     "text": [
      "Accuracy:  66.10954490535642 %\n"
     ]
    }
   ],
   "source": [
    "# Accuracy\n",
    "from sklearn.metrics import accuracy_score\n",
    "\n",
    "X_test = np.array(dataset['test']['mean'])\n",
    "y_test = np.array(dataset['test']['sentiment'])\n",
    "\n",
    "y_pred = clf.predict(X_test)\n",
    "\n",
    "print(\"Accuracy: \", accuracy_score(y_test, y_pred)*100, \"%\")"
   ]
  },
  {
   "cell_type": "code",
   "execution_count": 19,
   "metadata": {},
   "outputs": [
    {
     "data": {
      "text/plain": [
       "<sklearn.metrics._plot.confusion_matrix.ConfusionMatrixDisplay at 0x1a70b31c5c0>"
      ]
     },
     "execution_count": 19,
     "metadata": {},
     "output_type": "execute_result"
    },
    {
     "data": {
      "image/png": "[encoded data removed]",
      "text/plain": [
       "<Figure size 640x480 with 2 Axes>"
      ]
     },
     "metadata": {},
     "output_type": "display_data"
    }
   ],
   "source": [
    "# Confusion Matrix\n",
    "from sklearn.metrics import confusion_matrix, ConfusionMatrixDisplay\n",
    "\n",
    "cm = confusion_matrix(y_test, y_pred)\n",
    "\n",
    "disp = ConfusionMatrixDisplay(confusion_matrix=cm,\n",
    "display_labels=clf.classes_)\n",
    "disp.plot()"
   ]
  },
  {
   "cell_type": "markdown",
   "metadata": {},
   "source": [
    "## 1.2.4  LSTM"
   ]
  },
  {
   "cell_type": "code",
   "execution_count": 20,
   "metadata": {},
   "outputs": [
    {
     "data": {
      "application/vnd.jupyter.widget-view+json": {
       "model_id": "6836b7bf78654de09345da749f6c8db6",
       "version_major": 2,
       "version_minor": 0
      },
      "text/plain": [
       "Map:   0%|          | 0/39924 [00:00<?, ? examples/s]"
      ]
     },
     "metadata": {},
     "output_type": "display_data"
    },
    {
     "data": {
      "application/vnd.jupyter.widget-view+json": {
       "model_id": "bc0e1659ee26488681ce52cf0a161a50",
       "version_major": 2,
       "version_minor": 0
      },
      "text/plain": [
       "Map:   0%|          | 0/4963 [00:00<?, ? examples/s]"
      ]
     },
     "metadata": {},
     "output_type": "display_data"
    },
    {
     "data": {
      "application/vnd.jupyter.widget-view+json": {
       "model_id": "dbaf324a84a04e819ab76369205a356e",
       "version_major": 2,
       "version_minor": 0
      },
      "text/plain": [
       "Map:   0%|          | 0/4966 [00:00<?, ? examples/s]"
      ]
     },
     "metadata": {},
     "output_type": "display_data"
    }
   ],
   "source": [
    "def vectorize(example):\n",
    "    return {'vectors': word_embedding.wv[example['tokens']]}\n",
    "\n",
    "dataset = dataset.map(vectorize)"
   ]
  },
  {
   "cell_type": "code",
   "execution_count": 21,
   "metadata": {},
   "outputs": [
    {
     "data": {
      "text/plain": [
       "DatasetDict({\n",
       "    train: Dataset({\n",
       "        features: ['text', 'date', 'user', 'sentiment', 'query', '__index_level_0__', 'tokens', 'mean', 'vectors'],\n",
       "        num_rows: 39924\n",
       "    })\n",
       "    validation: Dataset({\n",
       "        features: ['text', 'date', 'user', 'sentiment', 'query', '__index_level_0__', 'tokens', 'mean', 'vectors'],\n",
       "        num_rows: 4963\n",
       "    })\n",
       "    test: Dataset({\n",
       "        features: ['text', 'date', 'user', 'sentiment', 'query', '__index_level_0__', 'tokens', 'mean', 'vectors'],\n",
       "        num_rows: 4966\n",
       "    })\n",
       "})"
      ]
     },
     "execution_count": 21,
     "metadata": {},
     "output_type": "execute_result"
    }
   ],
   "source": [
    "dataset"
   ]
  },
  {
   "cell_type": "code",
   "execution_count": 22,
   "metadata": {},
   "outputs": [
    {
     "data": {
      "text/plain": [
       "[[-0.3077804744243622,\n",
       "  0.11485743522644043,\n",
       "  -0.10076084733009338,\n",
       "  -0.026831820607185364,\n",
       "  0.014581877738237381,\n",
       "  -0.47586721181869507,\n",
       "  0.053116947412490845,\n",
       "  0.7790313363075256,\n",
       "  -0.5546442866325378,\n",
       "  -0.30287861824035645,\n",
       "  -0.10230791568756104,\n",
       "  -0.6264797449111938,\n",
       "  -0.061180438846349716,\n",
       "  0.26077207922935486,\n",
       "  -0.22512927651405334,\n",
       "  -0.2120112031698227,\n",
       "  0.14043408632278442,\n",
       "  -0.4082675874233246,\n",
       "  -0.06268969923257828,\n",
       "  -0.8680192232131958,\n",
       "  0.5898571610450745,\n",
       "  -0.053352728486061096,\n",
       "  0.20394912362098694,\n",
       "  0.07762085646390915,\n",
       "  0.011419753544032574,\n",
       "  -0.18069098889827728,\n",
       "  -0.24351070821285248,\n",
       "  0.08597856014966965,\n",
       "  -0.06025858595967293,\n",
       "  0.009294620715081692,\n",
       "  0.42830416560173035,\n",
       "  0.2926470637321472,\n",
       "  0.38247790932655334,\n",
       "  -0.29265281558036804,\n",
       "  -0.25829580426216125,\n",
       "  0.4436575174331665,\n",
       "  0.23318803310394287,\n",
       "  -0.06482713669538498,\n",
       "  -0.07046963274478912,\n",
       "  -0.2062174677848816,\n",
       "  0.009999590925872326,\n",
       "  -0.0030181638430804014,\n",
       "  -0.4722975194454193,\n",
       "  0.04591141268610954,\n",
       "  0.2093631625175476,\n",
       "  -0.1206551268696785,\n",
       "  -0.18056033551692963,\n",
       "  -0.025559578090906143,\n",
       "  0.10617514699697495,\n",
       "  0.30114543437957764,\n",
       "  0.16881148517131805,\n",
       "  -0.19420666992664337,\n",
       "  -0.4198388457298279,\n",
       "  0.3079323172569275,\n",
       "  -0.2991757094860077,\n",
       "  0.10746985673904419,\n",
       "  0.04202120378613472,\n",
       "  -0.18211215734481812,\n",
       "  -0.29126179218292236,\n",
       "  0.04492904990911484,\n",
       "  0.13695399463176727,\n",
       "  0.3063170909881592,\n",
       "  0.41905805468559265,\n",
       "  -0.1555781066417694,\n",
       "  -0.8694967031478882,\n",
       "  0.14198803901672363,\n",
       "  -0.050414297729730606,\n",
       "  0.22699929773807526,\n",
       "  -0.6621527671813965,\n",
       "  0.7202998399734497,\n",
       "  0.11560369282960892,\n",
       "  0.37661924958229065,\n",
       "  0.2640822231769562,\n",
       "  0.03041735664010048,\n",
       "  0.34043946862220764,\n",
       "  -0.0920162945985794,\n",
       "  -0.19526706635951996,\n",
       "  -0.07653403282165527,\n",
       "  -0.5506025552749634,\n",
       "  0.44786688685417175,\n",
       "  -0.3496248722076416,\n",
       "  -0.1536678969860077,\n",
       "  -0.19349227845668793,\n",
       "  0.19819031655788422,\n",
       "  0.0310033168643713,\n",
       "  0.21668893098831177,\n",
       "  0.2028985470533371,\n",
       "  0.3838302791118622,\n",
       "  0.43751654028892517,\n",
       "  0.2610001564025879,\n",
       "  0.25589674711227417,\n",
       "  0.019917959347367287,\n",
       "  -0.05800946056842804,\n",
       "  0.39052581787109375,\n",
       "  0.485262393951416,\n",
       "  0.09810282289981842,\n",
       "  -0.0844825729727745,\n",
       "  -0.19287745654582977,\n",
       "  -0.02809225767850876,\n",
       "  -0.11717560142278671],\n",
       " [-0.09883518517017365,\n",
       "  0.15358303487300873,\n",
       "  -0.03824050351977348,\n",
       "  -0.17799130082130432,\n",
       "  0.11644777655601501,\n",
       "  -0.5334845185279846,\n",
       "  -0.07238321006298065,\n",
       "  0.7558389902114868,\n",
       "  -0.42138996720314026,\n",
       "  -0.17617471516132355,\n",
       "  -0.13116951286792755,\n",
       "  -0.5798534750938416,\n",
       "  -0.1030367985367775,\n",
       "  0.2597954273223877,\n",
       "  0.02615814283490181,\n",
       "  -0.23930956423282623,\n",
       "  0.08345595747232437,\n",
       "  -0.48546406626701355,\n",
       "  -0.23077815771102905,\n",
       "  -0.7553983926773071,\n",
       "  0.3735564649105072,\n",
       "  0.08853046596050262,\n",
       "  0.2529062330722809,\n",
       "  -0.13864657282829285,\n",
       "  -0.13658930361270905,\n",
       "  0.04571342468261719,\n",
       "  -0.24467293918132782,\n",
       "  -0.1672409474849701,\n",
       "  -0.16777652502059937,\n",
       "  -0.023148685693740845,\n",
       "  0.15860790014266968,\n",
       "  0.1574038565158844,\n",
       "  0.29961371421813965,\n",
       "  -0.3246135413646698,\n",
       "  -0.2712838351726532,\n",
       "  0.4750906229019165,\n",
       "  0.14100034534931183,\n",
       "  -0.15866389870643616,\n",
       "  -0.09409094601869583,\n",
       "  -0.24397359788417816,\n",
       "  0.12705309689044952,\n",
       "  -0.0847705751657486,\n",
       "  -0.3270425796508789,\n",
       "  0.006636790931224823,\n",
       "  0.21196198463439941,\n",
       "  -0.024659939110279083,\n",
       "  -0.12725499272346497,\n",
       "  -0.08068756759166718,\n",
       "  0.2289472371339798,\n",
       "  0.22484061121940613,\n",
       "  0.08001861721277237,\n",
       "  -0.4177407920360565,\n",
       "  -0.16062909364700317,\n",
       "  0.060029517859220505,\n",
       "  -0.10959169268608093,\n",
       "  0.16295354068279266,\n",
       "  0.146053746342659,\n",
       "  -0.044228773564100266,\n",
       "  -0.3398306369781494,\n",
       "  -0.043387290090322495,\n",
       "  0.17656925320625305,\n",
       "  0.16264019906520844,\n",
       "  0.1541837900876999,\n",
       "  -0.13563545048236847,\n",
       "  -0.4101276397705078,\n",
       "  0.2587745487689972,\n",
       "  0.05704200640320778,\n",
       "  0.24405355751514435,\n",
       "  -0.5384333729743958,\n",
       "  0.5808350443840027,\n",
       "  -0.06597866117954254,\n",
       "  0.1254148781299591,\n",
       "  0.22579693794250488,\n",
       "  -0.1033308133482933,\n",
       "  0.23949280381202698,\n",
       "  0.10099870711565018,\n",
       "  -0.022071098908782005,\n",
       "  -0.1959666609764099,\n",
       "  -0.4959487318992615,\n",
       "  0.2764608860015869,\n",
       "  -0.3334958851337433,\n",
       "  -0.24624139070510864,\n",
       "  -0.3277488946914673,\n",
       "  0.28010717034339905,\n",
       "  -0.04890101030468941,\n",
       "  -0.050996582955121994,\n",
       "  0.12329990416765213,\n",
       "  0.5038068294525146,\n",
       "  0.29385271668434143,\n",
       "  0.29020777344703674,\n",
       "  0.4425143599510193,\n",
       "  0.0127656739205122,\n",
       "  -0.036836858838796616,\n",
       "  0.27101418375968933,\n",
       "  0.530626654624939,\n",
       "  0.2583375871181488,\n",
       "  0.00457587419077754,\n",
       "  -0.24418655037879944,\n",
       "  -0.08883247524499893,\n",
       "  -0.03176390007138252],\n",
       " [-0.062382105737924576,\n",
       "  0.052765894681215286,\n",
       "  0.10198331624269485,\n",
       "  -0.17822159826755524,\n",
       "  0.16407883167266846,\n",
       "  -0.4878177344799042,\n",
       "  0.05959978699684143,\n",
       "  0.671771764755249,\n",
       "  -0.36093875765800476,\n",
       "  -0.24343980848789215,\n",
       "  -0.1134515330195427,\n",
       "  -0.3989258408546448,\n",
       "  -0.06573252379894257,\n",
       "  0.24523155391216278,\n",
       "  0.02573527581989765,\n",
       "  -0.2724645435810089,\n",
       "  0.07871661335229874,\n",
       "  -0.3444044888019562,\n",
       "  -0.20220114290714264,\n",
       "  -0.6462827920913696,\n",
       "  0.42605000734329224,\n",
       "  0.16056789457798004,\n",
       "  0.05027754604816437,\n",
       "  -0.14617598056793213,\n",
       "  -0.20622266829013824,\n",
       "  0.09147494286298752,\n",
       "  -0.2948608100414276,\n",
       "  -0.21492475271224976,\n",
       "  -0.17399054765701294,\n",
       "  0.0007754775579087436,\n",
       "  0.22919651865959167,\n",
       "  0.16764472424983978,\n",
       "  0.014491028152406216,\n",
       "  -0.3479326069355011,\n",
       "  -0.16156789660453796,\n",
       "  0.3488311767578125,\n",
       "  0.018015088513493538,\n",
       "  -0.24353240430355072,\n",
       "  -0.10666032880544662,\n",
       "  -0.32882577180862427,\n",
       "  0.15020036697387695,\n",
       "  -0.2022334635257721,\n",
       "  -0.22287891805171967,\n",
       "  -0.052587296813726425,\n",
       "  0.2708316743373871,\n",
       "  -0.09145630151033401,\n",
       "  -0.20262934267520905,\n",
       "  -0.0980352982878685,\n",
       "  0.20711146295070648,\n",
       "  0.14259466528892517,\n",
       "  0.045091547071933746,\n",
       "  -0.3552337884902954,\n",
       "  -0.11660440266132355,\n",
       "  0.011228094808757305,\n",
       "  -0.09967105090618134,\n",
       "  0.17147812247276306,\n",
       "  0.16020750999450684,\n",
       "  -0.020403524860739708,\n",
       "  -0.2400648295879364,\n",
       "  0.06365175545215607,\n",
       "  0.11990199983119965,\n",
       "  0.19358672201633453,\n",
       "  0.165941059589386,\n",
       "  -0.09337624907493591,\n",
       "  -0.4483153522014618,\n",
       "  0.2971816658973694,\n",
       "  0.11847762018442154,\n",
       "  0.19041451811790466,\n",
       "  -0.5797172784805298,\n",
       "  0.5431742668151855,\n",
       "  -0.06621932238340378,\n",
       "  0.014340993016958237,\n",
       "  0.1788148134946823,\n",
       "  -0.10449128597974777,\n",
       "  0.28865018486976624,\n",
       "  -0.009262194857001305,\n",
       "  0.08849219232797623,\n",
       "  -0.07260432839393616,\n",
       "  -0.5695247650146484,\n",
       "  0.09992562234401703,\n",
       "  -0.3136065900325775,\n",
       "  -0.15076875686645508,\n",
       "  -0.39246249198913574,\n",
       "  0.27419984340667725,\n",
       "  -0.10639144480228424,\n",
       "  -0.01071292906999588,\n",
       "  0.0930970311164856,\n",
       "  0.4946483075618744,\n",
       "  0.2835170328617096,\n",
       "  0.17885969579219818,\n",
       "  0.3682853877544403,\n",
       "  0.056628141552209854,\n",
       "  -0.04457476735115051,\n",
       "  0.22831323742866516,\n",
       "  0.5331911444664001,\n",
       "  0.2350458949804306,\n",
       "  0.11130068451166153,\n",
       "  -0.2079319804906845,\n",
       "  -0.13201135396957397,\n",
       "  0.06238948553800583],\n",
       " [0.005689712241292,\n",
       "  0.1913444846868515,\n",
       "  0.09207205474376678,\n",
       "  -0.05937464162707329,\n",
       "  -0.1566067934036255,\n",
       "  -0.7622674703598022,\n",
       "  -0.2188272774219513,\n",
       "  0.9330801963806152,\n",
       "  -0.6876497864723206,\n",
       "  -0.00849449634552002,\n",
       "  -0.06599202752113342,\n",
       "  -0.6379692554473877,\n",
       "  -0.22669164836406708,\n",
       "  0.6501621007919312,\n",
       "  -0.1343248188495636,\n",
       "  -0.6007705330848694,\n",
       "  -0.034635573625564575,\n",
       "  -0.3374875783920288,\n",
       "  -0.3659875988960266,\n",
       "  -0.6173736453056335,\n",
       "  0.5453674793243408,\n",
       "  0.06682918965816498,\n",
       "  0.1358470767736435,\n",
       "  -0.2006160169839859,\n",
       "  -0.43131476640701294,\n",
       "  0.14851248264312744,\n",
       "  -0.5813350081443787,\n",
       "  -0.28262457251548767,\n",
       "  -0.03927743807435036,\n",
       "  -0.25350648164749146,\n",
       "  0.07855185866355896,\n",
       "  0.07983490824699402,\n",
       "  0.24752576649188995,\n",
       "  -0.24821597337722778,\n",
       "  -0.2546647787094116,\n",
       "  0.6274790167808533,\n",
       "  0.03536781296133995,\n",
       "  -0.3603985607624054,\n",
       "  -0.23707906901836395,\n",
       "  -0.3574826419353485,\n",
       "  0.43993276357650757,\n",
       "  -0.39958974719047546,\n",
       "  -0.10368004441261292,\n",
       "  0.16613759100437164,\n",
       "  0.23000004887580872,\n",
       "  0.1092822328209877,\n",
       "  -0.30473965406417847,\n",
       "  -0.4474896490573883,\n",
       "  0.03705047070980072,\n",
       "  -0.14996112883090973,\n",
       "  -0.09559383243322372,\n",
       "  -0.330051988363266,\n",
       "  -0.04171173274517059,\n",
       "  -0.0013374555855989456,\n",
       "  0.26817426085472107,\n",
       "  0.23401141166687012,\n",
       "  0.7233647704124451,\n",
       "  0.07057381421327591,\n",
       "  -0.21573077142238617,\n",
       "  -0.02033051662147045,\n",
       "  0.12632881104946136,\n",
       "  0.1300515979528427,\n",
       "  0.16979165375232697,\n",
       "  -0.3726895749568939,\n",
       "  0.01721898652613163,\n",
       "  0.19412949681282043,\n",
       "  -0.09355126321315765,\n",
       "  0.18636901676654816,\n",
       "  -0.5738952159881592,\n",
       "  0.41616091132164,\n",
       "  -0.307573139667511,\n",
       "  0.13831456005573273,\n",
       "  0.31890591979026794,\n",
       "  -0.03697367012500763,\n",
       "  0.3936452865600586,\n",
       "  0.05344315245747566,\n",
       "  -0.17750020325183868,\n",
       "  0.055467281490564346,\n",
       "  -0.6685314178466797,\n",
       "  0.3386094272136688,\n",
       "  -0.5910640954971313,\n",
       "  -0.18853028118610382,\n",
       "  -0.2522887587547302,\n",
       "  0.5580467581748962,\n",
       "  -0.01490106526762247,\n",
       "  0.010001112706959248,\n",
       "  0.09833399951457977,\n",
       "  0.38946276903152466,\n",
       "  0.5026415586471558,\n",
       "  0.2303602546453476,\n",
       "  0.3515598177909851,\n",
       "  0.1331932544708252,\n",
       "  0.06037324666976929,\n",
       "  0.021691514179110527,\n",
       "  0.5674335360527039,\n",
       "  0.22238987684249878,\n",
       "  0.18286579847335815,\n",
       "  -0.03585902228951454,\n",
       "  0.2840674817562103,\n",
       "  0.09341192990541458],\n",
       " [-0.07322831451892853,\n",
       "  0.09402813762426376,\n",
       "  0.10031455010175705,\n",
       "  -0.11498773097991943,\n",
       "  -0.037255868315696716,\n",
       "  -0.8112817406654358,\n",
       "  -0.01015111431479454,\n",
       "  0.8830823302268982,\n",
       "  -0.5336465835571289,\n",
       "  -0.17585782706737518,\n",
       "  -0.07033749669790268,\n",
       "  -0.7272903919219971,\n",
       "  -0.1522139459848404,\n",
       "  0.3726532459259033,\n",
       "  0.07850900292396545,\n",
       "  -0.333082914352417,\n",
       "  0.32323604822158813,\n",
       "  -0.27502569556236267,\n",
       "  -0.27254781126976013,\n",
       "  -0.6562088131904602,\n",
       "  0.6015292406082153,\n",
       "  -0.14360560476779938,\n",
       "  0.10665083676576614,\n",
       "  -0.2980438768863678,\n",
       "  0.08559348434209824,\n",
       "  -0.032562293112277985,\n",
       "  -0.745501697063446,\n",
       "  0.33822810649871826,\n",
       "  -0.3280949294567108,\n",
       "  0.10363982617855072,\n",
       "  0.41909295320510864,\n",
       "  0.13760022819042206,\n",
       "  0.3539922833442688,\n",
       "  -0.5342562794685364,\n",
       "  -0.048951830714941025,\n",
       "  0.7621884942054749,\n",
       "  0.17568625509738922,\n",
       "  -0.32579970359802246,\n",
       "  -0.1266796588897705,\n",
       "  0.10601001232862473,\n",
       "  0.4050096869468689,\n",
       "  -0.2634669244289398,\n",
       "  -0.5053083300590515,\n",
       "  -0.013054530136287212,\n",
       "  -0.37434810400009155,\n",
       "  0.3420710563659668,\n",
       "  -0.023383893072605133,\n",
       "  0.25097402930259705,\n",
       "  0.08301176130771637,\n",
       "  0.06824200600385666,\n",
       "  0.2038901448249817,\n",
       "  -0.44148877263069153,\n",
       "  -0.14865368604660034,\n",
       "  0.2225361168384552,\n",
       "  0.011034257709980011,\n",
       "  0.1363006830215454,\n",
       "  0.4204728901386261,\n",
       "  -0.10466229915618896,\n",
       "  -0.2306629866361618,\n",
       "  0.011323146522045135,\n",
       "  0.1116921678185463,\n",
       "  0.4236809313297272,\n",
       "  0.07765761017799377,\n",
       "  0.006355775985866785,\n",
       "  -0.06778090447187424,\n",
       "  0.4376668632030487,\n",
       "  0.578442394733429,\n",
       "  -0.11281359940767288,\n",
       "  -0.9724439978599548,\n",
       "  0.9734488725662231,\n",
       "  0.0046575372107326984,\n",
       "  0.0018711392767727375,\n",
       "  0.13010184466838837,\n",
       "  0.10036581754684448,\n",
       "  0.3741387724876404,\n",
       "  0.015663323923945427,\n",
       "  -0.035166263580322266,\n",
       "  -0.15704137086868286,\n",
       "  -0.4986858665943146,\n",
       "  0.273739218711853,\n",
       "  -0.9454895853996277,\n",
       "  -0.11140767484903336,\n",
       "  -0.47341838479042053,\n",
       "  0.4139922559261322,\n",
       "  -0.09454797208309174,\n",
       "  -0.27197402715682983,\n",
       "  0.028936972841620445,\n",
       "  0.1171676442027092,\n",
       "  0.25145551562309265,\n",
       "  0.08592801541090012,\n",
       "  0.43475207686424255,\n",
       "  -0.03968500718474388,\n",
       "  -0.006010410841554403,\n",
       "  0.0018671767320483923,\n",
       "  0.44002458453178406,\n",
       "  0.1064322367310524,\n",
       "  -0.10429338365793228,\n",
       "  -0.33467260003089905,\n",
       "  -0.1534486562013626,\n",
       "  -0.019356485456228256],\n",
       " [-0.029790151864290237,\n",
       "  0.0797961950302124,\n",
       "  0.079303078353405,\n",
       "  -0.04107771813869476,\n",
       "  0.05245710909366608,\n",
       "  -0.12194555997848511,\n",
       "  -0.0014912612969055772,\n",
       "  0.14152191579341888,\n",
       "  -0.06386119872331619,\n",
       "  0.009828980080783367,\n",
       "  -0.08668380975723267,\n",
       "  -0.13607776165008545,\n",
       "  -0.07609676569700241,\n",
       "  0.01918366737663746,\n",
       "  0.01952500268816948,\n",
       "  -0.09700903296470642,\n",
       "  -0.020900029689073563,\n",
       "  -0.1264888197183609,\n",
       "  0.06530944257974625,\n",
       "  -0.10875418782234192,\n",
       "  0.08255958557128906,\n",
       "  0.031688012182712555,\n",
       "  0.028677964583039284,\n",
       "  -0.04025833308696747,\n",
       "  0.007260299287736416,\n",
       "  0.039211858063936234,\n",
       "  -0.07354516535997391,\n",
       "  -0.09844067692756653,\n",
       "  -0.0696399062871933,\n",
       "  -0.010559151880443096,\n",
       "  0.06790223717689514,\n",
       "  0.03424275666475296,\n",
       "  0.015234094113111496,\n",
       "  -0.011727177537977695,\n",
       "  0.009439883753657341,\n",
       "  0.03269395977258682,\n",
       "  -0.016862856224179268,\n",
       "  -0.0996219739317894,\n",
       "  -0.012249056249856949,\n",
       "  -0.09746868163347244,\n",
       "  0.016485560685396194,\n",
       "  -0.03392966091632843,\n",
       "  -0.08137283474206924,\n",
       "  -0.009482722729444504,\n",
       "  0.014569428749382496,\n",
       "  -0.04638269543647766,\n",
       "  -0.07786165177822113,\n",
       "  0.040439482778310776,\n",
       "  -0.0007330526132136583,\n",
       "  0.054081179201602936,\n",
       "  0.035397402942180634,\n",
       "  -0.10428853332996368,\n",
       "  -0.08270186185836792,\n",
       "  0.01759202405810356,\n",
       "  -0.11971089243888855,\n",
       "  0.04949783906340599,\n",
       "  0.04506346583366394,\n",
       "  0.0015990757383406162,\n",
       "  -0.08291663229465485,\n",
       "  0.057004664093256,\n",
       "  -0.0069639673456549644,\n",
       "  0.07096529006958008,\n",
       "  -0.06049862131476402,\n",
       "  -0.019660448655486107,\n",
       "  -0.08661029487848282,\n",
       "  0.028828974813222885,\n",
       "  0.06792117655277252,\n",
       "  0.0001252375077456236,\n",
       "  -0.11471055448055267,\n",
       "  0.1414366513490677,\n",
       "  -0.06833802908658981,\n",
       "  -0.011871866881847382,\n",
       "  0.08301997184753418,\n",
       "  -0.06808077543973923,\n",
       "  0.06080717220902443,\n",
       "  0.004034753423184156,\n",
       "  -0.02238866500556469,\n",
       "  -0.09601214528083801,\n",
       "  -0.14917190372943878,\n",
       "  0.04739830270409584,\n",
       "  -0.07696851342916489,\n",
       "  -0.05910802632570267,\n",
       "  -0.03815044090151787,\n",
       "  0.045870449393987656,\n",
       "  -0.013635987415909767,\n",
       "  0.063448466360569,\n",
       "  -0.08512760698795319,\n",
       "  0.10886147618293762,\n",
       "  0.10692714154720306,\n",
       "  0.028950298205018044,\n",
       "  0.0785839781165123,\n",
       "  0.025204692035913467,\n",
       "  0.016043171286582947,\n",
       "  0.024453191086649895,\n",
       "  0.1911194920539856,\n",
       "  0.09026265144348145,\n",
       "  0.08434664458036423,\n",
       "  -0.08432930707931519,\n",
       "  -0.017908159643411636,\n",
       "  0.029100708663463593],\n",
       " [-0.043581217527389526,\n",
       "  0.1470329612493515,\n",
       "  0.11703047901391983,\n",
       "  -0.07240932434797287,\n",
       "  0.10119622200727463,\n",
       "  -0.2619990110397339,\n",
       "  0.03588223457336426,\n",
       "  0.31502318382263184,\n",
       "  -0.1709306389093399,\n",
       "  -0.005853148642927408,\n",
       "  -0.1308964192867279,\n",
       "  -0.24472357332706451,\n",
       "  -0.09714394062757492,\n",
       "  0.06665003299713135,\n",
       "  0.03247137740254402,\n",
       "  -0.17113392055034637,\n",
       "  -0.00783824734389782,\n",
       "  -0.21162235736846924,\n",
       "  0.06657899916172028,\n",
       "  -0.2462412714958191,\n",
       "  0.16146555542945862,\n",
       "  0.06254362314939499,\n",
       "  0.03863750025629997,\n",
       "  -0.07030362635850906,\n",
       "  -0.030846253037452698,\n",
       "  0.06984130293130875,\n",
       "  -0.15750855207443237,\n",
       "  -0.16526494920253754,\n",
       "  -0.10545343160629272,\n",
       "  -0.01066575851291418,\n",
       "  0.14924252033233643,\n",
       "  0.053087156265974045,\n",
       "  0.0511324517428875,\n",
       "  -0.056095946580171585,\n",
       "  -0.006186391692608595,\n",
       "  0.12139450013637543,\n",
       "  -0.014599064365029335,\n",
       "  -0.16030444204807281,\n",
       "  -0.04229100048542023,\n",
       "  -0.19664892554283142,\n",
       "  0.05210237205028534,\n",
       "  -0.09313944727182388,\n",
       "  -0.14133164286613464,\n",
       "  0.015081442892551422,\n",
       "  0.04616202041506767,\n",
       "  -0.07990068197250366,\n",
       "  -0.14273931086063385,\n",
       "  0.02320888638496399,\n",
       "  0.04670609161257744,\n",
       "  0.09472278505563736,\n",
       "  0.06105712056159973,\n",
       "  -0.20387274026870728,\n",
       "  -0.11939293891191483,\n",
       "  0.025807054713368416,\n",
       "  -0.1531475931406021,\n",
       "  0.11943092197179794,\n",
       "  0.07561634480953217,\n",
       "  0.00490996427834034,\n",
       "  -0.15061205625534058,\n",
       "  0.09300180524587631,\n",
       "  0.002828489523380995,\n",
       "  0.11159256100654602,\n",
       "  -0.06824170798063278,\n",
       "  -0.053543925285339355,\n",
       "  -0.1941809207201004,\n",
       "  0.09085317701101303,\n",
       "  0.12298037856817245,\n",
       "  0.04158692806959152,\n",
       "  -0.2644297182559967,\n",
       "  0.3000791668891907,\n",
       "  -0.08304127305746078,\n",
       "  -0.010244781151413918,\n",
       "  0.12748341262340546,\n",
       "  -0.08582690358161926,\n",
       "  0.13377739489078522,\n",
       "  0.012420588172972202,\n",
       "  9.128169040195644e-05,\n",
       "  -0.11540130525827408,\n",
       "  -0.2826877534389496,\n",
       "  0.09556567668914795,\n",
       "  -0.15100648999214172,\n",
       "  -0.09415210783481598,\n",
       "  -0.10929931700229645,\n",
       "  0.08624524623155594,\n",
       "  -0.0447349026799202,\n",
       "  0.07410059124231339,\n",
       "  -0.09393902868032455,\n",
       "  0.1972925364971161,\n",
       "  0.2194211632013321,\n",
       "  0.07371236383914948,\n",
       "  0.16818897426128387,\n",
       "  0.029162626713514328,\n",
       "  0.027621442452073097,\n",
       "  0.08098719269037247,\n",
       "  0.32388657331466675,\n",
       "  0.15742148458957672,\n",
       "  0.12362431734800339,\n",
       "  -0.12358273565769196,\n",
       "  -0.05157383158802986,\n",
       "  0.02047703228890896],\n",
       " [-0.06377357244491577,\n",
       "  0.3433047831058502,\n",
       "  0.14573287963867188,\n",
       "  -0.23421789705753326,\n",
       "  0.17524662613868713,\n",
       "  -0.5878023505210876,\n",
       "  0.14445653557777405,\n",
       "  0.9572682976722717,\n",
       "  -0.729727566242218,\n",
       "  -0.21556785702705383,\n",
       "  -0.03632723167538643,\n",
       "  -0.4320449233055115,\n",
       "  -0.06850643455982208,\n",
       "  0.1151706650853157,\n",
       "  0.02065555937588215,\n",
       "  -0.37776973843574524,\n",
       "  0.22038550674915314,\n",
       "  -0.4507460296154022,\n",
       "  -0.37584152817726135,\n",
       "  -0.8197357654571533,\n",
       "  0.42048075795173645,\n",
       "  -0.032140929251909256,\n",
       "  0.009178067557513714,\n",
       "  -0.3246302604675293,\n",
       "  -0.2881283164024353,\n",
       "  0.15732604265213013,\n",
       "  -0.43424850702285767,\n",
       "  -0.3035856783390045,\n",
       "  0.033042989671230316,\n",
       "  0.07535392045974731,\n",
       "  0.1038794219493866,\n",
       "  0.2275751233100891,\n",
       "  0.3153100311756134,\n",
       "  -0.47748681902885437,\n",
       "  -0.19848096370697021,\n",
       "  0.5962921380996704,\n",
       "  0.09725936502218246,\n",
       "  -0.17201963067054749,\n",
       "  -0.10991057753562927,\n",
       "  -0.22039294242858887,\n",
       "  0.4815652668476105,\n",
       "  -0.1934691071510315,\n",
       "  -0.014058314263820648,\n",
       "  0.06219977140426636,\n",
       "  0.0010746371699497104,\n",
       "  -0.1226700022816658,\n",
       "  -0.27662062644958496,\n",
       "  -0.11972235143184662,\n",
       "  0.36571916937828064,\n",
       "  0.12181159853935242,\n",
       "  0.02357117459177971,\n",
       "  -0.3993154764175415,\n",
       "  -0.19949334859848022,\n",
       "  0.05369485914707184,\n",
       "  0.11704086512327194,\n",
       "  0.40775030851364136,\n",
       "  0.16897550225257874,\n",
       "  0.2897912859916687,\n",
       "  -0.19644661247730255,\n",
       "  0.04885042831301689,\n",
       "  0.18180066347122192,\n",
       "  0.20613299310207367,\n",
       "  -0.08860320597887039,\n",
       "  -0.23043248057365417,\n",
       "  -0.4963780343532562,\n",
       "  0.48835107684135437,\n",
       "  0.34885910153388977,\n",
       "  0.257248193025589,\n",
       "  -0.8054553270339966,\n",
       "  0.6114497184753418,\n",
       "  -0.17299239337444305,\n",
       "  -0.058224137872457504,\n",
       "  0.1704331338405609,\n",
       "  -0.06908915936946869,\n",
       "  0.24611276388168335,\n",
       "  -0.14280472695827484,\n",
       "  0.1517704725265503,\n",
       "  0.06182154268026352,\n",
       "  -0.5657048225402832,\n",
       "  0.34790098667144775,\n",
       "  -0.5804917812347412,\n",
       "  0.05829841271042824,\n",
       "  -0.5667538642883301,\n",
       "  0.19980989396572113,\n",
       "  -0.08563022315502167,\n",
       "  -0.0998019129037857,\n",
       "  0.16112016141414642,\n",
       "  0.625576376914978,\n",
       "  0.4122907221317291,\n",
       "  0.2974507510662079,\n",
       "  0.6185410022735596,\n",
       "  0.1029646173119545,\n",
       "  -0.3419741988182068,\n",
       "  0.5617489814758301,\n",
       "  0.644767701625824,\n",
       "  0.2820298373699188,\n",
       "  0.020586509257555008,\n",
       "  -0.2225874662399292,\n",
       "  -0.262288898229599,\n",
       "  -0.1588859260082245]]"
      ]
     },
     "execution_count": 22,
     "metadata": {},
     "output_type": "execute_result"
    }
   ],
   "source": [
    "dataset['train']['vectors'][0]"
   ]
  },
  {
   "cell_type": "code",
   "execution_count": 23,
   "metadata": {},
   "outputs": [
    {
     "data": {
      "text/plain": [
       "torch.Size([8, 100])"
      ]
     },
     "execution_count": 23,
     "metadata": {},
     "output_type": "execute_result"
    }
   ],
   "source": [
    "import torch\n",
    "import torch.nn as nn\n",
    "\n",
    "lstm = nn.LSTM(100, 200)\n",
    "sequence = torch.tensor(dataset['train'][0]['vectors'])\n",
    "out, _ = lstm(sequence)\n",
    "sequence.shape"
   ]
  },
  {
   "cell_type": "code",
   "execution_count": 24,
   "metadata": {},
   "outputs": [
    {
     "data": {
      "text/plain": [
       "torch.Size([8, 200])"
      ]
     },
     "execution_count": 24,
     "metadata": {},
     "output_type": "execute_result"
    }
   ],
   "source": [
    "out.shape"
   ]
  },
  {
   "cell_type": "code",
   "execution_count": 25,
   "metadata": {},
   "outputs": [],
   "source": [
    "lstm = nn.LSTM(100, 200, 2, batch_first=True)\n",
    "batch = [torch.tensor(sequence) for sequence in dataset['train'][0:4]['vectors']]  \n",
    "\n",
    "padded_batch = nn.utils.rnn.pad_sequence(batch)\n",
    "out, _ = lstm(padded_batch)"
   ]
  },
  {
   "cell_type": "code",
   "execution_count": 26,
   "metadata": {},
   "outputs": [
    {
     "data": {
      "text/plain": [
       "torch.Size([8, 4, 200])"
      ]
     },
     "execution_count": 26,
     "metadata": {},
     "output_type": "execute_result"
    }
   ],
   "source": [
    "out.shape"
   ]
  },
  {
   "cell_type": "markdown",
   "metadata": {},
   "source": [
    "#### Task 3: \n",
    "slice the output of the LSTM to get the last token’s output for every sample in the batch."
   ]
  },
  {
   "cell_type": "code",
   "execution_count": 27,
   "metadata": {},
   "outputs": [
    {
     "data": {
      "text/plain": [
       "tensor([[ 0.0129, -0.0432, -0.0132,  ..., -0.0233,  0.0339,  0.0185],\n",
       "        [ 0.0074, -0.0465, -0.0071,  ..., -0.0354,  0.0270,  0.0237],\n",
       "        [ 0.0151, -0.0401, -0.0113,  ..., -0.0402,  0.0293,  0.0162],\n",
       "        ...,\n",
       "        [ 0.0155, -0.0420, -0.0167,  ..., -0.0239,  0.0347,  0.0165],\n",
       "        [ 0.0170, -0.0445, -0.0140,  ..., -0.0227,  0.0333,  0.0185],\n",
       "        [ 0.0176, -0.0404, -0.0154,  ..., -0.0221,  0.0343,  0.0179]],\n",
       "       grad_fn=<SliceBackward0>)"
      ]
     },
     "execution_count": 27,
     "metadata": {},
     "output_type": "execute_result"
    }
   ],
   "source": [
    "out[ : ,-1 , :]"
   ]
  },
  {
   "cell_type": "markdown",
   "metadata": {},
   "source": [
    "###"
   ]
  },
  {
   "cell_type": "code",
   "execution_count": 28,
   "metadata": {},
   "outputs": [
    {
     "data": {
      "application/vnd.jupyter.widget-view+json": {
       "model_id": "f2a869d11d5a415b866cf71e343a40e9",
       "version_major": 2,
       "version_minor": 0
      },
      "text/plain": [
       "Map:   0%|          | 0/39924 [00:00<?, ? examples/s]"
      ]
     },
     "metadata": {},
     "output_type": "display_data"
    },
    {
     "data": {
      "application/vnd.jupyter.widget-view+json": {
       "model_id": "f534b7a04cc64d9eb62e89350b8f60f2",
       "version_major": 2,
       "version_minor": 0
      },
      "text/plain": [
       "Map:   0%|          | 0/4963 [00:00<?, ? examples/s]"
      ]
     },
     "metadata": {},
     "output_type": "display_data"
    },
    {
     "data": {
      "application/vnd.jupyter.widget-view+json": {
       "model_id": "ed9f04cd7e344e50bb915d51a2de6e01",
       "version_major": 2,
       "version_minor": 0
      },
      "text/plain": [
       "Map:   0%|          | 0/4966 [00:00<?, ? examples/s]"
      ]
     },
     "metadata": {},
     "output_type": "display_data"
    }
   ],
   "source": [
    "def word_to_index(example):\n",
    "    indices = [word_embedding.wv.key_to_index[token] for token in example['tokens']]\n",
    "    return {'indices': indices}\n",
    "\n",
    "dataset = dataset.map(word_to_index)"
   ]
  },
  {
   "cell_type": "code",
   "execution_count": 29,
   "metadata": {},
   "outputs": [
    {
     "data": {
      "text/plain": [
       "DatasetDict({\n",
       "    train: Dataset({\n",
       "        features: ['text', 'date', 'user', 'sentiment', 'query', '__index_level_0__', 'tokens', 'mean', 'vectors', 'indices'],\n",
       "        num_rows: 39924\n",
       "    })\n",
       "    validation: Dataset({\n",
       "        features: ['text', 'date', 'user', 'sentiment', 'query', '__index_level_0__', 'tokens', 'mean', 'vectors', 'indices'],\n",
       "        num_rows: 4963\n",
       "    })\n",
       "    test: Dataset({\n",
       "        features: ['text', 'date', 'user', 'sentiment', 'query', '__index_level_0__', 'tokens', 'mean', 'vectors', 'indices'],\n",
       "        num_rows: 4966\n",
       "    })\n",
       "})"
      ]
     },
     "execution_count": 29,
     "metadata": {},
     "output_type": "execute_result"
    }
   ],
   "source": [
    "dataset"
   ]
  },
  {
   "cell_type": "code",
   "execution_count": 30,
   "metadata": {},
   "outputs": [],
   "source": [
    "pad_vector = np.zeros(word_embedding.vector_size)\n",
    "weights = np.vstack([word_embedding.wv.vectors, pad_vector])\n",
    "\n",
    "vocab_size, embedding_size = weights.shape\n",
    "pad_idx = vocab_size - 1"
   ]
  },
  {
   "cell_type": "code",
   "execution_count": 31,
   "metadata": {},
   "outputs": [
    {
     "data": {
      "application/vnd.jupyter.widget-view+json": {
       "model_id": "d9198d58b9554a45ac0ae610b19833e9",
       "version_major": 2,
       "version_minor": 0
      },
      "text/plain": [
       "Map:   0%|          | 0/39924 [00:00<?, ? examples/s]"
      ]
     },
     "metadata": {},
     "output_type": "display_data"
    },
    {
     "data": {
      "application/vnd.jupyter.widget-view+json": {
       "model_id": "1a831676efc049759994867331bd8d2b",
       "version_major": 2,
       "version_minor": 0
      },
      "text/plain": [
       "Map:   0%|          | 0/4963 [00:00<?, ? examples/s]"
      ]
     },
     "metadata": {},
     "output_type": "display_data"
    },
    {
     "data": {
      "application/vnd.jupyter.widget-view+json": {
       "model_id": "92a9df27c41d47678ebcaa0a1219bfa7",
       "version_major": 2,
       "version_minor": 0
      },
      "text/plain": [
       "Map:   0%|          | 0/4966 [00:00<?, ? examples/s]"
      ]
     },
     "metadata": {},
     "output_type": "display_data"
    }
   ],
   "source": [
    "def pad_sequences(batch):\n",
    "    indices = [torch.tensor(sample, dtype=torch.long) for sample in batch['indices']]\n",
    "    indices = nn.utils.rnn.pad_sequence(indices, batch_first=True,padding_value=pad_idx)\n",
    "    return {'indices': indices}\n",
    "\n",
    "dataset = dataset.map(pad_sequences, batched=True,batch_size=None).with_format('torch')"
   ]
  },
  {
   "cell_type": "code",
   "execution_count": 32,
   "metadata": {},
   "outputs": [],
   "source": [
    "import torch.nn.functional as F\n",
    "\n",
    "class SentimentClassifierLSTM(nn.Module):\n",
    "    def __init__(self, vocab_size, embedding_size, hidden_size,num_layers):\n",
    "        super().__init__()\n",
    "        self.hidden_size = hidden_size\n",
    "        self.num_layers = num_layers\n",
    "        self.embedding = nn.Embedding(vocab_size, embedding_size)\n",
    "        self.lstm = nn.LSTM(embedding_size, hidden_size, num_layers,batch_first=True)\n",
    "        self.fc = nn.Linear(hidden_size, 1)\n",
    "        \n",
    "    def forward(self, x):\n",
    "        embeddings = self.embedding(x)\n",
    "        out, _ = self.lstm(embeddings)\n",
    "        out = out[:, -1, :]\n",
    "        out = self.fc(out)\n",
    "        out = F.sigmoid(out)\n",
    "        return out.squeeze(1)"
   ]
  },
  {
   "cell_type": "code",
   "execution_count": 33,
   "metadata": {},
   "outputs": [],
   "source": [
    "hidden_size = 128\n",
    "num_layers = 2\n",
    "model = SentimentClassifierLSTM(vocab_size=vocab_size,\n",
    "                                embedding_size=embedding_size,\n",
    "                                  hidden_size=hidden_size,\n",
    "                                  num_layers=num_layers)\n",
    "\n",
    "model.embedding.weight = nn.Parameter(torch.FloatTensor(weights))\n",
    "model.embedding.weight.requires_grad = False"
   ]
  },
  {
   "cell_type": "code",
   "execution_count": 34,
   "metadata": {},
   "outputs": [],
   "source": [
    "learning_rate = 0.001\n",
    "criterion = nn.BCELoss()\n",
    "optimizer = torch.optim.Adam(model.parameters(), lr=learning_rate)"
   ]
  },
  {
   "cell_type": "code",
   "execution_count": 35,
   "metadata": {},
   "outputs": [
    {
     "data": {
      "text/plain": [
       "device(type='cuda')"
      ]
     },
     "execution_count": 35,
     "metadata": {},
     "output_type": "execute_result"
    }
   ],
   "source": [
    "device = torch.device('cuda'if torch.cuda.is_available() else'cpu')\n",
    "model = model.to(device)\n",
    "criterion = criterion.to(device)\n",
    "\n",
    "device"
   ]
  },
  {
   "cell_type": "code",
   "execution_count": 36,
   "metadata": {},
   "outputs": [],
   "source": [
    "from torch.utils.data import DataLoader, TensorDataset\n",
    "\n",
    "batch_size = 2048\n",
    "\n",
    "def to_dataloader(dataset, split, shuffle):\n",
    "    dataset = TensorDataset(dataset[split]['indices'],dataset[split]['sentiment'])\n",
    "    return DataLoader(dataset, batch_size=batch_size, shuffle=shuffle)\n",
    "\n",
    "train_dataloader = to_dataloader(dataset,'train', True)\n",
    "test_dataloader = to_dataloader(dataset,'test', False)\n",
    "validation_dataloader = to_dataloader(dataset,'validation', False)"
   ]
  },
  {
   "cell_type": "code",
   "execution_count": 37,
   "metadata": {},
   "outputs": [],
   "source": [
    "def train_one_epoch(dataloader):\n",
    "    for inputs, labels in dataloader:\n",
    "        inputs = inputs.to(device)\n",
    "        labels = labels.to(device).float()\n",
    "        outputs = model(inputs)\n",
    "        loss = criterion(outputs, labels)\n",
    "        optimizer.zero_grad()\n",
    "        loss.backward()\n",
    "        optimizer.step()"
   ]
  },
  {
   "cell_type": "markdown",
   "metadata": {},
   "source": [
    "#### Task 4:\n",
    "  Use the train_one_epoch to train the model on 20 epochs.\n",
    "  \n",
    "  - Bonus:  Evaluate the model on the validation set after each epoch and print the validation accuracy.\n",
    "  \n",
    "  "
   ]
  },
  {
   "cell_type": "code",
   "execution_count": 44,
   "metadata": {},
   "outputs": [
    {
     "name": "stdout",
     "output_type": "stream",
     "text": [
      "Epoch 1/20, Validation Accuracy: 71.85%\n",
      "Epoch 2/20, Validation Accuracy: 70.78%\n",
      "Epoch 3/20, Validation Accuracy: 71.63%\n",
      "Epoch 4/20, Validation Accuracy: 71.79%\n",
      "Epoch 5/20, Validation Accuracy: 72.40%\n",
      "Epoch 6/20, Validation Accuracy: 72.70%\n",
      "Epoch 7/20, Validation Accuracy: 72.74%\n",
      "Epoch 8/20, Validation Accuracy: 72.62%\n",
      "Epoch 9/20, Validation Accuracy: 72.76%\n",
      "Epoch 10/20, Validation Accuracy: 72.90%\n",
      "Epoch 11/20, Validation Accuracy: 72.09%\n",
      "Epoch 12/20, Validation Accuracy: 72.54%\n",
      "Epoch 13/20, Validation Accuracy: 71.49%\n",
      "Epoch 14/20, Validation Accuracy: 73.02%\n",
      "Epoch 15/20, Validation Accuracy: 72.44%\n",
      "Epoch 16/20, Validation Accuracy: 72.82%\n",
      "Epoch 17/20, Validation Accuracy: 73.20%\n",
      "Epoch 18/20, Validation Accuracy: 72.98%\n",
      "Epoch 19/20, Validation Accuracy: 74.03%\n",
      "Epoch 20/20, Validation Accuracy: 73.97%\n"
     ]
    }
   ],
   "source": [
    "num_epochs = 20\n",
    "\n",
    "for epoch in range(num_epochs):\n",
    "    model.train()\n",
    "    # Train the model for one epoch\n",
    "    train_one_epoch(train_dataloader)\n",
    "    \n",
    "    # Evaluate the model on the validation set\n",
    "    model.eval()\n",
    "    correct = 0\n",
    "    total = 0\n",
    "    with torch.no_grad():\n",
    "        for data in validation_dataloader:\n",
    "            inputs, labels = data\n",
    "            inputs = inputs.to(device)\n",
    "            labels = labels.to(device).float()\n",
    "            \n",
    "            outputs = model(inputs)\n",
    "            \n",
    "            # Convert probabilities to binary predictions\n",
    "            predicted = (outputs > 0.5).float()\n",
    "            \n",
    "            total += labels.size(0)\n",
    "            correct += (predicted == labels).sum().item()\n",
    "    \n",
    "    # Print the validation accuracy\n",
    "    val_accuracy = 100 * correct / total\n",
    "    print(f'Epoch {epoch+1}/{num_epochs}, Validation Accuracy: {val_accuracy:.2f}%')\n"
   ]
  },
  {
   "cell_type": "markdown",
   "metadata": {},
   "source": [
    "#### Task 5: \n",
    "Evaluate the model on the test set using the accuracy and confusion matrix."
   ]
  },
  {
   "cell_type": "code",
   "execution_count": 45,
   "metadata": {},
   "outputs": [
    {
     "name": "stdout",
     "output_type": "stream",
     "text": [
      "Test Accuracy: 74.02%\n"
     ]
    },
    {
     "data": {
      "text/plain": [
       "<sklearn.metrics._plot.confusion_matrix.ConfusionMatrixDisplay at 0x1a72e9fe840>"
      ]
     },
     "execution_count": 45,
     "metadata": {},
     "output_type": "execute_result"
    },
    {
     "data": {
      "image/png": "[encoded data removed]",
      "text/plain": [
       "<Figure size 640x480 with 2 Axes>"
      ]
     },
     "metadata": {},
     "output_type": "display_data"
    }
   ],
   "source": [
    "# Evaluate the model on the test set using the accuracy and confusion matrix.\n",
    "\n",
    "model.eval()\n",
    "correct = 0\n",
    "total = 0\n",
    "predictions = []\n",
    "\n",
    "with torch.no_grad():\n",
    "    for data in test_dataloader:\n",
    "        inputs, labels = data\n",
    "        inputs = inputs.to(device)\n",
    "        labels = labels.to(device).float()\n",
    "\n",
    "        outputs = model(inputs)\n",
    "\n",
    "        # Convert probabilities to binary predictions\n",
    "        predicted = (outputs > 0.5).float()\n",
    "\n",
    "        total += labels.size(0)\n",
    "        correct += (predicted == labels).sum().item()\n",
    "        \n",
    "        predictions.extend(predicted.cpu().numpy())\n",
    "\n",
    "# Print the test accuracy\n",
    "test_accuracy = 100 * correct / total\n",
    "print(f'Test Accuracy: {test_accuracy:.2f}%')\n",
    "\n",
    "# Confusion Matrix\n",
    "from sklearn.metrics import confusion_matrix, ConfusionMatrixDisplay\n",
    "\n",
    "cm = confusion_matrix(y_test, predictions)\n",
    "\n",
    "disp = ConfusionMatrixDisplay(confusion_matrix=cm,display_labels=[0, 1])\n",
    "disp.plot()\n"
   ]
  },
  {
   "cell_type": "markdown",
   "metadata": {},
   "source": [
    "\n",
    "  #### Task 6: \n",
    "  Compare the performance of the model with the performance of the AverageVector model."
   ]
  },
  {
   "cell_type": "markdown",
   "metadata": {},
   "source": [
    "the AverageVector gives accuracy of 66.10954490535642 % while the model accuracy 74.02% as well as the TP and TN were much more in the model"
   ]
  },
  {
   "cell_type": "markdown",
   "metadata": {},
   "source": [
    "## 1.2.5  Transformers"
   ]
  },
  {
   "cell_type": "code",
   "execution_count": 51,
   "metadata": {},
   "outputs": [],
   "source": [
    "from transformers import AutoTokenizer\n",
    "tokenizer = AutoTokenizer.from_pretrained('lyeonii/bert-mini')"
   ]
  },
  {
   "cell_type": "code",
   "execution_count": 52,
   "metadata": {},
   "outputs": [
    {
     "data": {
      "text/plain": [
       "DatasetDict({\n",
       "    train: Dataset({\n",
       "        features: ['text', 'date', 'user', 'labels', 'query', '__index_level_0__', 'tokens', 'mean', 'vectors', 'indices', 'input_ids', 'token_type_ids', 'attention_mask'],\n",
       "        num_rows: 39924\n",
       "    })\n",
       "    validation: Dataset({\n",
       "        features: ['text', 'date', 'user', 'labels', 'query', '__index_level_0__', 'tokens', 'mean', 'vectors', 'indices', 'input_ids', 'token_type_ids', 'attention_mask'],\n",
       "        num_rows: 4963\n",
       "    })\n",
       "    test: Dataset({\n",
       "        features: ['text', 'date', 'user', 'labels', 'query', '__index_level_0__', 'tokens', 'mean', 'vectors', 'indices', 'input_ids', 'token_type_ids', 'attention_mask'],\n",
       "        num_rows: 4966\n",
       "    })\n",
       "})"
      ]
     },
     "execution_count": 52,
     "metadata": {},
     "output_type": "execute_result"
    }
   ],
   "source": [
    "tokenizer('Hello, world!')"
   ]
  },
  {
   "cell_type": "code",
   "execution_count": 53,
   "metadata": {},
   "outputs": [
    {
     "data": {
      "application/vnd.jupyter.widget-view+json": {
       "model_id": "00b9983d44f4467eaf2b0d45f10103a4",
       "version_major": 2,
       "version_minor": 0
      },
      "text/plain": [
       "Map:   0%|          | 0/4963 [00:00<?, ? examples/s]"
      ]
     },
     "metadata": {},
     "output_type": "display_data"
    }
   ],
   "source": [
    "tokenized_dataset = dataset.map(lambda x: tokenizer(x['text'],padding=True,return_tensors='pt'),\n",
    "                                 batched=True, batch_size=None).with_format('torch')"
   ]
  },
  {
   "cell_type": "code",
   "execution_count": 54,
   "metadata": {},
   "outputs": [],
   "source": [
    "tokenized_dataset = tokenized_dataset.rename_column('sentiment','labels')"
   ]
  },
  {
   "cell_type": "code",
   "execution_count": 55,
   "metadata": {},
   "outputs": [
    {
     "data": {
      "text/plain": [
       "DatasetDict({\n",
       "    train: Dataset({\n",
       "        features: ['text', 'date', 'user', 'labels', 'query', '__index_level_0__', 'tokens', 'mean', 'vectors', 'indices', 'input_ids', 'token_type_ids', 'attention_mask'],\n",
       "        num_rows: 39924\n",
       "    })\n",
       "    validation: Dataset({\n",
       "        features: ['text', 'date', 'user', 'labels', 'query', '__index_level_0__', 'tokens', 'mean', 'vectors', 'indices', 'input_ids', 'token_type_ids', 'attention_mask'],\n",
       "        num_rows: 4963\n",
       "    })\n",
       "    test: Dataset({\n",
       "        features: ['text', 'date', 'user', 'labels', 'query', '__index_level_0__', 'tokens', 'mean', 'vectors', 'indices', 'input_ids', 'token_type_ids', 'attention_mask'],\n",
       "        num_rows: 4966\n",
       "    })\n",
       "})"
      ]
     },
     "execution_count": 55,
     "metadata": {},
     "output_type": "execute_result"
    }
   ],
   "source": [
    "tokenized_dataset"
   ]
  },
  {
   "cell_type": "code",
   "execution_count": 56,
   "metadata": {},
   "outputs": [
    {
     "data": {
      "application/vnd.jupyter.widget-view+json": {
       "model_id": "19ce55001be04ba6a6d1704d55c2fc2f",
       "version_major": 2,
       "version_minor": 0
      },
      "text/plain": [
       "config.json:   0%|          | 0.00/618 [00:00<?, ?B/s]"
      ]
     },
     "metadata": {},
     "output_type": "display_data"
    },
    {
     "data": {
      "application/vnd.jupyter.widget-view+json": {
       "model_id": "f828dd7c637a450881204116a0cd0115",
       "version_major": 2,
       "version_minor": 0
      },
      "text/plain": [
       "pytorch_model.bin:   0%|          | 0.00/44.7M [00:00<?, ?B/s]"
      ]
     },
     "metadata": {},
     "output_type": "display_data"
    },
    {
     "name": "stderr",
     "output_type": "stream",
     "text": [
      "Some weights of BertForSequenceClassification were not initialized from the model checkpoint at lyeonii/bert-mini and are newly initialized: ['classifier.bias', 'classifier.weight']\n",
      "You should probably TRAIN this model on a down-stream task to be able to use it for predictions and inference.\n"
     ]
    }
   ],
   "source": [
    "from transformers import AutoModelForSequenceClassification\n",
    "\n",
    "model =AutoModelForSequenceClassification.from_pretrained('lyeonii/bert-mini',num_labels=2)"
   ]
  },
  {
   "cell_type": "code",
   "execution_count": 57,
   "metadata": {},
   "outputs": [
    {
     "name": "stderr",
     "output_type": "stream",
     "text": [
      "C:\\Users\\Lenovo\\AppData\\Roaming\\Python\\Python312\\site-packages\\transformers\\training_args.py:1525: FutureWarning: `evaluation_strategy` is deprecated and will be removed in version 4.46 of 🤗 Transformers. Use `eval_strategy` instead\n",
      "  warnings.warn(\n"
     ]
    },
    {
     "data": {
      "application/vnd.jupyter.widget-view+json": {
       "model_id": "e255dd961fb14766b56b5bd5f31a41e7",
       "version_major": 2,
       "version_minor": 0
      },
      "text/plain": [
       "  0%|          | 0/234 [00:00<?, ?it/s]"
      ]
     },
     "metadata": {},
     "output_type": "display_data"
    },
    {
     "name": "stderr",
     "output_type": "stream",
     "text": [
      "C:\\Users\\Lenovo\\AppData\\Roaming\\Python\\Python312\\site-packages\\transformers\\models\\bert\\modeling_bert.py:439: UserWarning: 1Torch was not compiled with flash attention. (Triggered internally at C:\\actions-runner\\_work\\pytorch\\pytorch\\builder\\windows\\pytorch\\aten\\src\\ATen\\native\\transformers\\cuda\\sdp_utils.cpp:555.)\n",
      "  attn_output = torch.nn.functional.scaled_dot_product_attention(\n"
     ]
    },
    {
     "name": "stdout",
     "output_type": "stream",
     "text": [
      "{'loss': 0.5838, 'grad_norm': 1.3663768768310547, 'learning_rate': 3.3333333333333335e-05, 'epoch': 1.0}\n"
     ]
    },
    {
     "data": {
      "application/vnd.jupyter.widget-view+json": {
       "model_id": "362946e4432c4ee49906a0e26ea63466",
       "version_major": 2,
       "version_minor": 0
      },
      "text/plain": [
       "  0%|          | 0/10 [00:00<?, ?it/s]"
      ]
     },
     "metadata": {},
     "output_type": "display_data"
    },
    {
     "name": "stdout",
     "output_type": "stream",
     "text": [
      "{'eval_loss': 0.5027585029602051, 'eval_runtime': 21.1582, 'eval_samples_per_second': 234.567, 'eval_steps_per_second': 0.473, 'epoch': 1.0}\n",
      "{'loss': 0.4824, 'grad_norm': 2.5186636447906494, 'learning_rate': 1.6666666666666667e-05, 'epoch': 2.0}\n"
     ]
    },
    {
     "data": {
      "application/vnd.jupyter.widget-view+json": {
       "model_id": "d72f98d1b2ab48a48fa8ff798dd1cde1",
       "version_major": 2,
       "version_minor": 0
      },
      "text/plain": [
       "  0%|          | 0/10 [00:00<?, ?it/s]"
      ]
     },
     "metadata": {},
     "output_type": "display_data"
    },
    {
     "name": "stdout",
     "output_type": "stream",
     "text": [
      "{'eval_loss': 0.46112048625946045, 'eval_runtime': 20.8917, 'eval_samples_per_second': 237.558, 'eval_steps_per_second': 0.479, 'epoch': 2.0}\n",
      "{'loss': 0.4576, 'grad_norm': 1.369411826133728, 'learning_rate': 0.0, 'epoch': 3.0}\n"
     ]
    },
    {
     "data": {
      "application/vnd.jupyter.widget-view+json": {
       "model_id": "ed76df6db8e1476a86d0af153d568291",
       "version_major": 2,
       "version_minor": 0
      },
      "text/plain": [
       "  0%|          | 0/10 [00:00<?, ?it/s]"
      ]
     },
     "metadata": {},
     "output_type": "display_data"
    },
    {
     "name": "stdout",
     "output_type": "stream",
     "text": [
      "{'eval_loss': 0.45664316415786743, 'eval_runtime': 21.1487, 'eval_samples_per_second': 234.672, 'eval_steps_per_second': 0.473, 'epoch': 3.0}\n",
      "{'train_runtime': 1928.1007, 'train_samples_per_second': 62.119, 'train_steps_per_second': 0.121, 'train_loss': 0.5079252291948367, 'epoch': 3.0}\n"
     ]
    },
    {
     "data": {
      "text/plain": [
       "TrainOutput(global_step=234, training_loss=0.5079252291948367, metrics={'train_runtime': 1928.1007, 'train_samples_per_second': 62.119, 'train_steps_per_second': 0.121, 'total_flos': 370912765800960.0, 'train_loss': 0.5079252291948367, 'epoch': 3.0})"
      ]
     },
     "execution_count": 57,
     "metadata": {},
     "output_type": "execute_result"
    }
   ],
   "source": [
    "from transformers import TrainingArguments, Trainer\n",
    "\n",
    "training_args = TrainingArguments(output_dir='sentiment-analysis',num_train_epochs=3,\n",
    "                                  per_device_train_batch_size=512,per_device_eval_batch_size=512,\n",
    "                                  weight_decay=0.01,evaluation_strategy='epoch',\n",
    "                                  save_strategy='epoch',logging_strategy='epoch')\n",
    "\n",
    "trainer = Trainer(model=model,args=training_args,train_dataset=tokenized_dataset['train'],\n",
    "                  eval_dataset=tokenized_dataset['validation'])\n",
    "\n",
    "trainer.train()"
   ]
  },
  {
   "cell_type": "markdown",
   "metadata": {},
   "source": [
    "#### Task 7:  \n",
    "Use compute_metrics in Trainer constructor, with evaluate package, to compute validation accuracy."
   ]
  },
  {
   "cell_type": "code",
   "execution_count": 72,
   "metadata": {},
   "outputs": [
    {
     "data": {
      "application/vnd.jupyter.widget-view+json": {
       "model_id": "d32f37612a9e43f9bfb42670a4916e4e",
       "version_major": 2,
       "version_minor": 0
      },
      "text/plain": [
       "  0%|          | 0/10 [00:00<?, ?it/s]"
      ]
     },
     "metadata": {},
     "output_type": "display_data"
    },
    {
     "name": "stdout",
     "output_type": "stream",
     "text": [
      "Accuracy:  78.70239774330042 %\n"
     ]
    }
   ],
   "source": [
    "test_results = trainer.predict(tokenized_dataset['validation'])\n",
    "y_pred = test_results.predictions.argmax(axis=-1)\n",
    "\n",
    "y_test = tokenized_dataset['validation']['labels']\n",
    "\n",
    "print(\"Accuracy: \", accuracy_score(y_test, y_pred)*100, \"%\")"
   ]
  },
  {
   "cell_type": "markdown",
   "metadata": {},
   "source": [
    "#### Task 8: \n",
    "Evaluate the model on the test set using the accuracy and confusion matrix."
   ]
  },
  {
   "cell_type": "code",
   "execution_count": 74,
   "metadata": {},
   "outputs": [
    {
     "data": {
      "application/vnd.jupyter.widget-view+json": {
       "model_id": "58ce54664ccc467e9bd8deb12449ba66",
       "version_major": 2,
       "version_minor": 0
      },
      "text/plain": [
       "  0%|          | 0/10 [00:00<?, ?it/s]"
      ]
     },
     "metadata": {},
     "output_type": "display_data"
    },
    {
     "name": "stdout",
     "output_type": "stream",
     "text": [
      "Accuracy:  78.99718082964156 %\n"
     ]
    },
    {
     "data": {
      "text/plain": [
       "<sklearn.metrics._plot.confusion_matrix.ConfusionMatrixDisplay at 0x1a769fbfaa0>"
      ]
     },
     "execution_count": 74,
     "metadata": {},
     "output_type": "execute_result"
    },
    {
     "data": {
      "image/png": "[encoded data removed]",
      "text/plain": [
       "<Figure size 640x480 with 2 Axes>"
      ]
     },
     "metadata": {},
     "output_type": "display_data"
    }
   ],
   "source": [
    "test_results = trainer.predict(tokenized_dataset['test'])\n",
    "y_pred = test_results.predictions.argmax(axis=-1)\n",
    "\n",
    "y_test = tokenized_dataset['test']['labels']\n",
    "\n",
    "print(\"Accuracy: \", accuracy_score(y_test, y_pred)*100, \"%\")\n",
    "\n",
    "cm = confusion_matrix(y_test, y_pred)\n",
    "\n",
    "disp = ConfusionMatrixDisplay(confusion_matrix=cm,display_labels=[0, 1])\n",
    "disp.plot()"
   ]
  },
  {
   "cell_type": "markdown",
   "metadata": {},
   "source": [
    "#### Task 9:  Compare the model with the previously trained models."
   ]
  },
  {
   "cell_type": "markdown",
   "metadata": {},
   "source": [
    "| Vectot       | LSTM       | Tranformers       |\n",
    "|----------------|----------------|----------------|\n",
    "| 66.10954490535642 %  | 74.02%  | 78.99718082964156 %  |\n",
    "\n",
    "the best models based on accuracy is the transformers\n"
   ]
  }
 ],
 "metadata": {
  "kernelspec": {
   "display_name": "Python 3",
   "language": "python",
   "name": "python3"
  },
  "language_info": {
   "codemirror_mode": {
    "name": "ipython",
    "version": 3
   },
   "file_extension": ".py",
   "mimetype": "text/x-python",
   "name": "python",
   "nbconvert_exporter": "python",
   "pygments_lexer": "ipython3",
   "version": "3.12.2"
  }
 },
 "nbformat": 4,
 "nbformat_minor": 2
}
